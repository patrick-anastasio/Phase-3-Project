{
 "cells": [
  {
   "cell_type": "code",
   "execution_count": 1,
   "id": "ad7e042e",
   "metadata": {},
   "outputs": [],
   "source": [
    "class data_less():\n",
    "\n",
    "    def processing (X, y):\n",
    "        X_cat = X.select_dtypes('object')\n",
    "        ohe = OneHotEncoder(sparse=False, handle_unknown='ignore')\n",
    "        dums = ohe.fit_transform(X_cat)\n",
    "        dums_df = pd.DataFrame(dums, columns=ohe.get_feature_names(), index=X_cat.index)\n",
    "\n",
    "        X_nums = X.select_dtypes('int64')\n",
    "        X = pd.concat([X_nums, dums_df], axis=1)\n",
    "\n",
    "        X_train, X_test, y_train, y_test = train_test_split(X, y, test_size=.1, random_state=42)\n",
    "\n",
    "        X_train_nums = X_train.select_dtypes('int64')\n",
    "        ss = StandardScaler()\n",
    "        ss.fit(X_train_nums)\n",
    "        nums_df = pd.DataFrame(ss.transform(X_train_nums),\n",
    "                          index=X_train_nums.index)\n",
    "        X_cats = X_train.select_dtypes('float64')\n",
    "        X_train_clean = pd.concat([nums_df, X_cats], axis=1)\n",
    "\n",
    "        X_test_nums = X_test.select_dtypes('int64')\n",
    "        ss = StandardScaler()\n",
    "        ss.fit(X_test_nums)\n",
    "        test_nums_df = pd.DataFrame(ss.transform(X_test_nums),\n",
    "                          index=X_test_nums.index)\n",
    "        X_test_cats = X_test.select_dtypes('float64')\n",
    "        X_test_clean = pd.concat([test_nums_df, X_test_cats], axis=1)\n",
    "        \n",
    "        return X_train_clean, X_test_clean, y_train, y_test"
   ]
  },
  {
   "cell_type": "code",
   "execution_count": 2,
   "id": "b7dc80c5",
   "metadata": {},
   "outputs": [],
   "source": [
    "class data_more():\n",
    "\n",
    "    def processing (X, y):\n",
    "        X_cat = X.select_dtypes('object')\n",
    "        ohe = OneHotEncoder(sparse=False, handle_unknown='ignore')\n",
    "        dums = ohe.fit_transform(X_cat)\n",
    "        dums_df = pd.DataFrame(dums, columns=ohe.get_feature_names(), index=X_cat.index)\n",
    "\n",
    "        X_nums = X.select_dtypes('int64')\n",
    "        X = pd.concat([X_nums, dums_df], axis=1)\n",
    "\n",
    "        X_train, X_test, y_train, y_test = train_test_split(X, y, test_size=.1, random_state=42)\n",
    "        \n",
    "#         X_train.population.where(X_train.population != 0, X_train.population.median(), inplace=True)\n",
    "        X_train.construction_year.where(X_train.construction_year != 0, X_train.construction_year.median(), inplace=True)\n",
    "        \n",
    "        X_train_nums = X_train.select_dtypes('int64')\n",
    "        ss = StandardScaler()\n",
    "        ss.fit(X_train_nums)\n",
    "        nums_df = pd.DataFrame(ss.transform(X_train_nums),\n",
    "                          index=X_train_nums.index)\n",
    "        X_cats = X_train.select_dtypes('float64')\n",
    "        X_train_clean = pd.concat([nums_df, X_cats], axis=1)\n",
    "\n",
    "#         X_test.population.where(X_test.population != 0, X_test.population.median(), inplace=True)\n",
    "        X_test.construction_year.where(X_test.construction_year != 0, X_test.construction_year.median(), inplace=True)\n",
    "        \n",
    "        X_test_nums = X_test.select_dtypes('int64')\n",
    "        ss = StandardScaler()\n",
    "        ss.fit(X_test_nums)\n",
    "        test_nums_df = pd.DataFrame(ss.transform(X_test_nums),\n",
    "                          index=X_test_nums.index)\n",
    "        X_test_cats = X_test.select_dtypes('float64')\n",
    "        X_test_clean = pd.concat([test_nums_df, X_test_cats], axis=1)\n",
    "        \n",
    "        return X_train_clean, X_test_clean, y_train, y_test"
   ]
  },
  {
   "cell_type": "code",
   "execution_count": null,
   "id": "69277703",
   "metadata": {},
   "outputs": [],
   "source": []
  }
 ],
 "metadata": {
  "kernelspec": {
   "display_name": "Python 3 (ipykernel)",
   "language": "python",
   "name": "python3"
  },
  "language_info": {
   "codemirror_mode": {
    "name": "ipython",
    "version": 3
   },
   "file_extension": ".py",
   "mimetype": "text/x-python",
   "name": "python",
   "nbconvert_exporter": "python",
   "pygments_lexer": "ipython3",
   "version": "3.9.7"
  }
 },
 "nbformat": 4,
 "nbformat_minor": 5
}
