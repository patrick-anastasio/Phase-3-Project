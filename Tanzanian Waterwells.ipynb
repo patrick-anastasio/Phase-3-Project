{
 "cells": [
  {
   "cell_type": "markdown",
   "id": "cb7160ce",
   "metadata": {},
   "source": [
    "# Business Understanding\n",
    "\n",
    "Tanzania is a developing country in eastern Africa. It is a geographically diverse country with mountainous terrain and flat plains. The country borders the Indian Ocean in the east, and the Great Rift Valley on its western border. A good portion of the country is below sea level, and much of it is 900 ft above sea level. Water is a tricky resource in the country and many organizations have installed water pumps in villages around the country in an effort to provide clean drinking water to the poeple. These pumps vary in how they extract water, the water quality, and what basin the water comes from. Pumps break down and require maintenance which can be quite a task considering there are over 57,000 pumps in the country.\n",
    "\n",
    "We have been asked by the Tanzanian Government to create a predicition model that will predict the condition of a water pump; functional, or non-functional. This will allow them strategically mobilize repair teams and to efficiently react when resources are needed in a particular area, such as supplying potable water to a village whose pump is non-functional and needs repair."
   ]
  },
  {
   "cell_type": "markdown",
   "id": "eef16536",
   "metadata": {},
   "source": [
    "#### Our null hypothesis is that we are not able to predict whether a well is functional or not.\n",
    "\n",
    "#### Our alternative hypothesis is that we can predict the condition of a well."
   ]
  },
  {
   "cell_type": "markdown",
   "id": "6e6406a3",
   "metadata": {},
   "source": [
    "> A false positive would be to predict a well is functional when it is not.\n",
    "\n",
    "> A false negative would be to predict a well is non-functional when it is."
   ]
  },
  {
   "cell_type": "code",
   "execution_count": null,
   "id": "5c8df5c5",
   "metadata": {},
   "outputs": [],
   "source": []
  },
  {
   "cell_type": "code",
   "execution_count": null,
   "id": "aae0335a",
   "metadata": {},
   "outputs": [],
   "source": []
  },
  {
   "cell_type": "code",
   "execution_count": null,
   "id": "0daf9aba",
   "metadata": {},
   "outputs": [],
   "source": []
  },
  {
   "cell_type": "code",
   "execution_count": 1,
   "id": "c40ea7bc",
   "metadata": {},
   "outputs": [],
   "source": [
    "import numpy as np\n",
    "import pandas as pd\n",
    "import missingno as msno\n",
    "import matplotlib.pyplot as plt\n",
    "import seaborn as sns\n",
    "import yellowbrick as yb\n",
    "import folium\n",
    "sns.set(style=\"whitegrid\")\n",
    "pd.set_option('display.max_columns',None)\n",
    "\n",
    "from scipy import stats as stats\n",
    "from sklearn.linear_model import LogisticRegression\n",
    "from sklearn.neighbors import KNeighborsClassifier\n",
    "from sklearn.tree import DecisionTreeClassifier\n",
    "from sklearn.metrics import precision_score, recall_score\n",
    "from sklearn.model_selection import train_test_split, GridSearchCV, cross_val_score, RandomizedSearchCV\n",
    "\n",
    "from sklearn.preprocessing import OneHotEncoder, StandardScaler\n",
    "from sklearn.impute import SimpleImputer\n",
    "from sklearn.pipeline import Pipeline\n",
    "from sklearn.compose import ColumnTransformer\n",
    "from sklearn.naive_bayes import MultinomialNB, GaussianNB"
   ]
  },
  {
   "cell_type": "code",
   "execution_count": 2,
   "id": "f9dd5a07",
   "metadata": {},
   "outputs": [],
   "source": [
    "V = pd.read_csv('Data/values.csv')\n",
    "y = pd.read_csv('Data/labels.csv')"
   ]
  },
  {
   "cell_type": "code",
   "execution_count": 3,
   "id": "835b461f",
   "metadata": {},
   "outputs": [],
   "source": [
    "y = y.replace({'status_group': {'functional' : 0, 'non functional' : 1, 'functional needs repair' : 1}})"
   ]
  },
  {
   "cell_type": "code",
   "execution_count": 4,
   "id": "c41aa0f6",
   "metadata": {},
   "outputs": [
    {
     "data": {
      "text/plain": [
       "0    32259\n",
       "1    27141\n",
       "Name: status_group, dtype: int64"
      ]
     },
     "execution_count": 4,
     "metadata": {},
     "output_type": "execute_result"
    }
   ],
   "source": [
    "y.status_group.value_counts()"
   ]
  },
  {
   "cell_type": "code",
   "execution_count": 5,
   "id": "bdd6630d",
   "metadata": {},
   "outputs": [],
   "source": [
    "df_lat_long = V['latitude'].to_frame().join(V['longitude']).join(y)\n",
    "map_center = [df_lat_long['latitude'].mean(), df_lat_long['longitude'].mean()]"
   ]
  },
  {
   "cell_type": "code",
   "execution_count": 6,
   "id": "045f7fc2",
   "metadata": {},
   "outputs": [],
   "source": [
    "# map1 = folium.Map(location = map_center, tiles='Openstreetmap', zoom_start = 5, control_scale=True, prefer_canvas=True)\n",
    "# for index, loc in df_lat_long.iterrows():\n",
    "#     if loc['status_group']==0:\n",
    "#         color = 'green'\n",
    "#     elif loc['status_group']==1:\n",
    "#         color = \"red\"\n",
    "#     elif loc['status_group']==2:\n",
    "#         color = 'blue'\n",
    "#     else:\n",
    "#         color = 'black'\n",
    "#     folium.CircleMarker([loc['latitude'], loc['longitude']], radius=2, weight=1, popup=loc['id'], fill_color=color, stroke=False).add_to(map1)\n",
    "# folium.LayerControl().add_to(map1)\n",
    "\n",
    "# map1"
   ]
  },
  {
   "cell_type": "code",
   "execution_count": 7,
   "id": "39a5a688",
   "metadata": {
    "scrolled": true
   },
   "outputs": [],
   "source": [
    "df_all = V.join(y.set_index('id'), on='id')"
   ]
  },
  {
   "cell_type": "code",
   "execution_count": 8,
   "id": "5bece056",
   "metadata": {},
   "outputs": [
    {
     "data": {
      "text/html": [
       "<div>\n",
       "<style scoped>\n",
       "    .dataframe tbody tr th:only-of-type {\n",
       "        vertical-align: middle;\n",
       "    }\n",
       "\n",
       "    .dataframe tbody tr th {\n",
       "        vertical-align: top;\n",
       "    }\n",
       "\n",
       "    .dataframe thead th {\n",
       "        text-align: right;\n",
       "    }\n",
       "</style>\n",
       "<table border=\"1\" class=\"dataframe\">\n",
       "  <thead>\n",
       "    <tr style=\"text-align: right;\">\n",
       "      <th></th>\n",
       "      <th>id</th>\n",
       "      <th>amount_tsh</th>\n",
       "      <th>date_recorded</th>\n",
       "      <th>funder</th>\n",
       "      <th>gps_height</th>\n",
       "      <th>installer</th>\n",
       "      <th>longitude</th>\n",
       "      <th>latitude</th>\n",
       "      <th>wpt_name</th>\n",
       "      <th>num_private</th>\n",
       "      <th>basin</th>\n",
       "      <th>subvillage</th>\n",
       "      <th>region</th>\n",
       "      <th>region_code</th>\n",
       "      <th>district_code</th>\n",
       "      <th>lga</th>\n",
       "      <th>ward</th>\n",
       "      <th>population</th>\n",
       "      <th>public_meeting</th>\n",
       "      <th>recorded_by</th>\n",
       "      <th>scheme_management</th>\n",
       "      <th>scheme_name</th>\n",
       "      <th>permit</th>\n",
       "      <th>construction_year</th>\n",
       "      <th>extraction_type</th>\n",
       "      <th>extraction_type_group</th>\n",
       "      <th>extraction_type_class</th>\n",
       "      <th>management</th>\n",
       "      <th>management_group</th>\n",
       "      <th>payment</th>\n",
       "      <th>payment_type</th>\n",
       "      <th>water_quality</th>\n",
       "      <th>quality_group</th>\n",
       "      <th>quantity</th>\n",
       "      <th>quantity_group</th>\n",
       "      <th>source</th>\n",
       "      <th>source_type</th>\n",
       "      <th>source_class</th>\n",
       "      <th>waterpoint_type</th>\n",
       "      <th>waterpoint_type_group</th>\n",
       "      <th>status_group</th>\n",
       "    </tr>\n",
       "  </thead>\n",
       "  <tbody>\n",
       "    <tr>\n",
       "      <th>0</th>\n",
       "      <td>69572</td>\n",
       "      <td>6000.0</td>\n",
       "      <td>2011-03-14</td>\n",
       "      <td>Roman</td>\n",
       "      <td>1390</td>\n",
       "      <td>Roman</td>\n",
       "      <td>34.938093</td>\n",
       "      <td>-9.856322</td>\n",
       "      <td>none</td>\n",
       "      <td>0</td>\n",
       "      <td>Lake Nyasa</td>\n",
       "      <td>Mnyusi B</td>\n",
       "      <td>Iringa</td>\n",
       "      <td>11</td>\n",
       "      <td>5</td>\n",
       "      <td>Ludewa</td>\n",
       "      <td>Mundindi</td>\n",
       "      <td>109</td>\n",
       "      <td>True</td>\n",
       "      <td>GeoData Consultants Ltd</td>\n",
       "      <td>VWC</td>\n",
       "      <td>Roman</td>\n",
       "      <td>False</td>\n",
       "      <td>1999</td>\n",
       "      <td>gravity</td>\n",
       "      <td>gravity</td>\n",
       "      <td>gravity</td>\n",
       "      <td>vwc</td>\n",
       "      <td>user-group</td>\n",
       "      <td>pay annually</td>\n",
       "      <td>annually</td>\n",
       "      <td>soft</td>\n",
       "      <td>good</td>\n",
       "      <td>enough</td>\n",
       "      <td>enough</td>\n",
       "      <td>spring</td>\n",
       "      <td>spring</td>\n",
       "      <td>groundwater</td>\n",
       "      <td>communal standpipe</td>\n",
       "      <td>communal standpipe</td>\n",
       "      <td>0</td>\n",
       "    </tr>\n",
       "    <tr>\n",
       "      <th>1</th>\n",
       "      <td>8776</td>\n",
       "      <td>0.0</td>\n",
       "      <td>2013-03-06</td>\n",
       "      <td>Grumeti</td>\n",
       "      <td>1399</td>\n",
       "      <td>GRUMETI</td>\n",
       "      <td>34.698766</td>\n",
       "      <td>-2.147466</td>\n",
       "      <td>Zahanati</td>\n",
       "      <td>0</td>\n",
       "      <td>Lake Victoria</td>\n",
       "      <td>Nyamara</td>\n",
       "      <td>Mara</td>\n",
       "      <td>20</td>\n",
       "      <td>2</td>\n",
       "      <td>Serengeti</td>\n",
       "      <td>Natta</td>\n",
       "      <td>280</td>\n",
       "      <td>NaN</td>\n",
       "      <td>GeoData Consultants Ltd</td>\n",
       "      <td>Other</td>\n",
       "      <td>NaN</td>\n",
       "      <td>True</td>\n",
       "      <td>2010</td>\n",
       "      <td>gravity</td>\n",
       "      <td>gravity</td>\n",
       "      <td>gravity</td>\n",
       "      <td>wug</td>\n",
       "      <td>user-group</td>\n",
       "      <td>never pay</td>\n",
       "      <td>never pay</td>\n",
       "      <td>soft</td>\n",
       "      <td>good</td>\n",
       "      <td>insufficient</td>\n",
       "      <td>insufficient</td>\n",
       "      <td>rainwater harvesting</td>\n",
       "      <td>rainwater harvesting</td>\n",
       "      <td>surface</td>\n",
       "      <td>communal standpipe</td>\n",
       "      <td>communal standpipe</td>\n",
       "      <td>0</td>\n",
       "    </tr>\n",
       "    <tr>\n",
       "      <th>2</th>\n",
       "      <td>34310</td>\n",
       "      <td>25.0</td>\n",
       "      <td>2013-02-25</td>\n",
       "      <td>Lottery Club</td>\n",
       "      <td>686</td>\n",
       "      <td>World vision</td>\n",
       "      <td>37.460664</td>\n",
       "      <td>-3.821329</td>\n",
       "      <td>Kwa Mahundi</td>\n",
       "      <td>0</td>\n",
       "      <td>Pangani</td>\n",
       "      <td>Majengo</td>\n",
       "      <td>Manyara</td>\n",
       "      <td>21</td>\n",
       "      <td>4</td>\n",
       "      <td>Simanjiro</td>\n",
       "      <td>Ngorika</td>\n",
       "      <td>250</td>\n",
       "      <td>True</td>\n",
       "      <td>GeoData Consultants Ltd</td>\n",
       "      <td>VWC</td>\n",
       "      <td>Nyumba ya mungu pipe scheme</td>\n",
       "      <td>True</td>\n",
       "      <td>2009</td>\n",
       "      <td>gravity</td>\n",
       "      <td>gravity</td>\n",
       "      <td>gravity</td>\n",
       "      <td>vwc</td>\n",
       "      <td>user-group</td>\n",
       "      <td>pay per bucket</td>\n",
       "      <td>per bucket</td>\n",
       "      <td>soft</td>\n",
       "      <td>good</td>\n",
       "      <td>enough</td>\n",
       "      <td>enough</td>\n",
       "      <td>dam</td>\n",
       "      <td>dam</td>\n",
       "      <td>surface</td>\n",
       "      <td>communal standpipe multiple</td>\n",
       "      <td>communal standpipe</td>\n",
       "      <td>0</td>\n",
       "    </tr>\n",
       "    <tr>\n",
       "      <th>3</th>\n",
       "      <td>67743</td>\n",
       "      <td>0.0</td>\n",
       "      <td>2013-01-28</td>\n",
       "      <td>Unicef</td>\n",
       "      <td>263</td>\n",
       "      <td>UNICEF</td>\n",
       "      <td>38.486161</td>\n",
       "      <td>-11.155298</td>\n",
       "      <td>Zahanati Ya Nanyumbu</td>\n",
       "      <td>0</td>\n",
       "      <td>Ruvuma / Southern Coast</td>\n",
       "      <td>Mahakamani</td>\n",
       "      <td>Mtwara</td>\n",
       "      <td>90</td>\n",
       "      <td>63</td>\n",
       "      <td>Nanyumbu</td>\n",
       "      <td>Nanyumbu</td>\n",
       "      <td>58</td>\n",
       "      <td>True</td>\n",
       "      <td>GeoData Consultants Ltd</td>\n",
       "      <td>VWC</td>\n",
       "      <td>NaN</td>\n",
       "      <td>True</td>\n",
       "      <td>1986</td>\n",
       "      <td>submersible</td>\n",
       "      <td>submersible</td>\n",
       "      <td>submersible</td>\n",
       "      <td>vwc</td>\n",
       "      <td>user-group</td>\n",
       "      <td>never pay</td>\n",
       "      <td>never pay</td>\n",
       "      <td>soft</td>\n",
       "      <td>good</td>\n",
       "      <td>dry</td>\n",
       "      <td>dry</td>\n",
       "      <td>machine dbh</td>\n",
       "      <td>borehole</td>\n",
       "      <td>groundwater</td>\n",
       "      <td>communal standpipe multiple</td>\n",
       "      <td>communal standpipe</td>\n",
       "      <td>1</td>\n",
       "    </tr>\n",
       "    <tr>\n",
       "      <th>4</th>\n",
       "      <td>19728</td>\n",
       "      <td>0.0</td>\n",
       "      <td>2011-07-13</td>\n",
       "      <td>Action In A</td>\n",
       "      <td>0</td>\n",
       "      <td>Artisan</td>\n",
       "      <td>31.130847</td>\n",
       "      <td>-1.825359</td>\n",
       "      <td>Shuleni</td>\n",
       "      <td>0</td>\n",
       "      <td>Lake Victoria</td>\n",
       "      <td>Kyanyamisa</td>\n",
       "      <td>Kagera</td>\n",
       "      <td>18</td>\n",
       "      <td>1</td>\n",
       "      <td>Karagwe</td>\n",
       "      <td>Nyakasimbi</td>\n",
       "      <td>0</td>\n",
       "      <td>True</td>\n",
       "      <td>GeoData Consultants Ltd</td>\n",
       "      <td>NaN</td>\n",
       "      <td>NaN</td>\n",
       "      <td>True</td>\n",
       "      <td>0</td>\n",
       "      <td>gravity</td>\n",
       "      <td>gravity</td>\n",
       "      <td>gravity</td>\n",
       "      <td>other</td>\n",
       "      <td>other</td>\n",
       "      <td>never pay</td>\n",
       "      <td>never pay</td>\n",
       "      <td>soft</td>\n",
       "      <td>good</td>\n",
       "      <td>seasonal</td>\n",
       "      <td>seasonal</td>\n",
       "      <td>rainwater harvesting</td>\n",
       "      <td>rainwater harvesting</td>\n",
       "      <td>surface</td>\n",
       "      <td>communal standpipe</td>\n",
       "      <td>communal standpipe</td>\n",
       "      <td>0</td>\n",
       "    </tr>\n",
       "  </tbody>\n",
       "</table>\n",
       "</div>"
      ],
      "text/plain": [
       "      id  amount_tsh date_recorded        funder  gps_height     installer  \\\n",
       "0  69572      6000.0    2011-03-14         Roman        1390         Roman   \n",
       "1   8776         0.0    2013-03-06       Grumeti        1399       GRUMETI   \n",
       "2  34310        25.0    2013-02-25  Lottery Club         686  World vision   \n",
       "3  67743         0.0    2013-01-28        Unicef         263        UNICEF   \n",
       "4  19728         0.0    2011-07-13   Action In A           0       Artisan   \n",
       "\n",
       "   longitude   latitude              wpt_name  num_private  \\\n",
       "0  34.938093  -9.856322                  none            0   \n",
       "1  34.698766  -2.147466              Zahanati            0   \n",
       "2  37.460664  -3.821329           Kwa Mahundi            0   \n",
       "3  38.486161 -11.155298  Zahanati Ya Nanyumbu            0   \n",
       "4  31.130847  -1.825359               Shuleni            0   \n",
       "\n",
       "                     basin  subvillage   region  region_code  district_code  \\\n",
       "0               Lake Nyasa    Mnyusi B   Iringa           11              5   \n",
       "1            Lake Victoria     Nyamara     Mara           20              2   \n",
       "2                  Pangani     Majengo  Manyara           21              4   \n",
       "3  Ruvuma / Southern Coast  Mahakamani   Mtwara           90             63   \n",
       "4            Lake Victoria  Kyanyamisa   Kagera           18              1   \n",
       "\n",
       "         lga        ward  population public_meeting              recorded_by  \\\n",
       "0     Ludewa    Mundindi         109           True  GeoData Consultants Ltd   \n",
       "1  Serengeti       Natta         280            NaN  GeoData Consultants Ltd   \n",
       "2  Simanjiro     Ngorika         250           True  GeoData Consultants Ltd   \n",
       "3   Nanyumbu    Nanyumbu          58           True  GeoData Consultants Ltd   \n",
       "4    Karagwe  Nyakasimbi           0           True  GeoData Consultants Ltd   \n",
       "\n",
       "  scheme_management                  scheme_name permit  construction_year  \\\n",
       "0               VWC                        Roman  False               1999   \n",
       "1             Other                          NaN   True               2010   \n",
       "2               VWC  Nyumba ya mungu pipe scheme   True               2009   \n",
       "3               VWC                          NaN   True               1986   \n",
       "4               NaN                          NaN   True                  0   \n",
       "\n",
       "  extraction_type extraction_type_group extraction_type_class management  \\\n",
       "0         gravity               gravity               gravity        vwc   \n",
       "1         gravity               gravity               gravity        wug   \n",
       "2         gravity               gravity               gravity        vwc   \n",
       "3     submersible           submersible           submersible        vwc   \n",
       "4         gravity               gravity               gravity      other   \n",
       "\n",
       "  management_group         payment payment_type water_quality quality_group  \\\n",
       "0       user-group    pay annually     annually          soft          good   \n",
       "1       user-group       never pay    never pay          soft          good   \n",
       "2       user-group  pay per bucket   per bucket          soft          good   \n",
       "3       user-group       never pay    never pay          soft          good   \n",
       "4            other       never pay    never pay          soft          good   \n",
       "\n",
       "       quantity quantity_group                source           source_type  \\\n",
       "0        enough         enough                spring                spring   \n",
       "1  insufficient   insufficient  rainwater harvesting  rainwater harvesting   \n",
       "2        enough         enough                   dam                   dam   \n",
       "3           dry            dry           machine dbh              borehole   \n",
       "4      seasonal       seasonal  rainwater harvesting  rainwater harvesting   \n",
       "\n",
       "  source_class              waterpoint_type waterpoint_type_group  \\\n",
       "0  groundwater           communal standpipe    communal standpipe   \n",
       "1      surface           communal standpipe    communal standpipe   \n",
       "2      surface  communal standpipe multiple    communal standpipe   \n",
       "3  groundwater  communal standpipe multiple    communal standpipe   \n",
       "4      surface           communal standpipe    communal standpipe   \n",
       "\n",
       "   status_group  \n",
       "0             0  \n",
       "1             0  \n",
       "2             0  \n",
       "3             1  \n",
       "4             0  "
      ]
     },
     "execution_count": 8,
     "metadata": {},
     "output_type": "execute_result"
    }
   ],
   "source": [
    "df_all.head()"
   ]
  },
  {
   "cell_type": "code",
   "execution_count": 9,
   "id": "46082b3f",
   "metadata": {
    "scrolled": true
   },
   "outputs": [],
   "source": [
    "df_all.drop(labels=df_all.id[49651], inplace=True)"
   ]
  },
  {
   "cell_type": "code",
   "execution_count": 10,
   "id": "67eaa93d",
   "metadata": {},
   "outputs": [
    {
     "name": "stdout",
     "output_type": "stream",
     "text": [
      "<class 'pandas.core.frame.DataFrame'>\n",
      "Int64Index: 59399 entries, 0 to 59399\n",
      "Data columns (total 41 columns):\n",
      " #   Column                 Non-Null Count  Dtype  \n",
      "---  ------                 --------------  -----  \n",
      " 0   id                     59399 non-null  int64  \n",
      " 1   amount_tsh             59399 non-null  float64\n",
      " 2   date_recorded          59399 non-null  object \n",
      " 3   funder                 55764 non-null  object \n",
      " 4   gps_height             59399 non-null  int64  \n",
      " 5   installer              55744 non-null  object \n",
      " 6   longitude              59399 non-null  float64\n",
      " 7   latitude               59399 non-null  float64\n",
      " 8   wpt_name               59399 non-null  object \n",
      " 9   num_private            59399 non-null  int64  \n",
      " 10  basin                  59399 non-null  object \n",
      " 11  subvillage             59028 non-null  object \n",
      " 12  region                 59399 non-null  object \n",
      " 13  region_code            59399 non-null  int64  \n",
      " 14  district_code          59399 non-null  int64  \n",
      " 15  lga                    59399 non-null  object \n",
      " 16  ward                   59399 non-null  object \n",
      " 17  population             59399 non-null  int64  \n",
      " 18  public_meeting         56065 non-null  object \n",
      " 19  recorded_by            59399 non-null  object \n",
      " 20  scheme_management      55522 non-null  object \n",
      " 21  scheme_name            31233 non-null  object \n",
      " 22  permit                 56343 non-null  object \n",
      " 23  construction_year      59399 non-null  int64  \n",
      " 24  extraction_type        59399 non-null  object \n",
      " 25  extraction_type_group  59399 non-null  object \n",
      " 26  extraction_type_class  59399 non-null  object \n",
      " 27  management             59399 non-null  object \n",
      " 28  management_group       59399 non-null  object \n",
      " 29  payment                59399 non-null  object \n",
      " 30  payment_type           59399 non-null  object \n",
      " 31  water_quality          59399 non-null  object \n",
      " 32  quality_group          59399 non-null  object \n",
      " 33  quantity               59399 non-null  object \n",
      " 34  quantity_group         59399 non-null  object \n",
      " 35  source                 59399 non-null  object \n",
      " 36  source_type            59399 non-null  object \n",
      " 37  source_class           59399 non-null  object \n",
      " 38  waterpoint_type        59399 non-null  object \n",
      " 39  waterpoint_type_group  59399 non-null  object \n",
      " 40  status_group           59399 non-null  int64  \n",
      "dtypes: float64(3), int64(8), object(30)\n",
      "memory usage: 19.0+ MB\n"
     ]
    }
   ],
   "source": [
    "df_all.info()"
   ]
  },
  {
   "cell_type": "code",
   "execution_count": 11,
   "id": "62fb9d9b",
   "metadata": {},
   "outputs": [],
   "source": [
    "# Need to drop features that have no influence, and are repetitive\n",
    "df = df_all.drop(columns=['id', 'amount_tsh', 'date_recorded', 'funder',\n",
    "       'longitude', 'latitude', 'wpt_name', 'num_private',\n",
    "       'subvillage', 'region', 'region_code', 'district_code',\n",
    "       'ward', 'public_meeting', 'recorded_by',\n",
    "       'scheme_management', 'scheme_name', 'permit', \n",
    "       'extraction_type_group', 'extraction_type_class',\n",
    "       'management_group', 'payment', 'payment_type',\n",
    "       'quality_group', 'quantity', 'quantity_group',\n",
    "       'source_type', 'source_class',\n",
    "       'waterpoint_type_group'])"
   ]
  },
  {
   "cell_type": "code",
   "execution_count": 12,
   "id": "86b3a878",
   "metadata": {},
   "outputs": [
    {
     "data": {
      "text/html": [
       "<div>\n",
       "<style scoped>\n",
       "    .dataframe tbody tr th:only-of-type {\n",
       "        vertical-align: middle;\n",
       "    }\n",
       "\n",
       "    .dataframe tbody tr th {\n",
       "        vertical-align: top;\n",
       "    }\n",
       "\n",
       "    .dataframe thead th {\n",
       "        text-align: right;\n",
       "    }\n",
       "</style>\n",
       "<table border=\"1\" class=\"dataframe\">\n",
       "  <thead>\n",
       "    <tr style=\"text-align: right;\">\n",
       "      <th></th>\n",
       "      <th>gps_height</th>\n",
       "      <th>installer</th>\n",
       "      <th>basin</th>\n",
       "      <th>lga</th>\n",
       "      <th>population</th>\n",
       "      <th>construction_year</th>\n",
       "      <th>extraction_type</th>\n",
       "      <th>management</th>\n",
       "      <th>water_quality</th>\n",
       "      <th>source</th>\n",
       "      <th>waterpoint_type</th>\n",
       "      <th>status_group</th>\n",
       "    </tr>\n",
       "  </thead>\n",
       "  <tbody>\n",
       "    <tr>\n",
       "      <th>0</th>\n",
       "      <td>1390</td>\n",
       "      <td>Roman</td>\n",
       "      <td>Lake Nyasa</td>\n",
       "      <td>Ludewa</td>\n",
       "      <td>109</td>\n",
       "      <td>1999</td>\n",
       "      <td>gravity</td>\n",
       "      <td>vwc</td>\n",
       "      <td>soft</td>\n",
       "      <td>spring</td>\n",
       "      <td>communal standpipe</td>\n",
       "      <td>0</td>\n",
       "    </tr>\n",
       "    <tr>\n",
       "      <th>1</th>\n",
       "      <td>1399</td>\n",
       "      <td>GRUMETI</td>\n",
       "      <td>Lake Victoria</td>\n",
       "      <td>Serengeti</td>\n",
       "      <td>280</td>\n",
       "      <td>2010</td>\n",
       "      <td>gravity</td>\n",
       "      <td>wug</td>\n",
       "      <td>soft</td>\n",
       "      <td>rainwater harvesting</td>\n",
       "      <td>communal standpipe</td>\n",
       "      <td>0</td>\n",
       "    </tr>\n",
       "    <tr>\n",
       "      <th>2</th>\n",
       "      <td>686</td>\n",
       "      <td>World vision</td>\n",
       "      <td>Pangani</td>\n",
       "      <td>Simanjiro</td>\n",
       "      <td>250</td>\n",
       "      <td>2009</td>\n",
       "      <td>gravity</td>\n",
       "      <td>vwc</td>\n",
       "      <td>soft</td>\n",
       "      <td>dam</td>\n",
       "      <td>communal standpipe multiple</td>\n",
       "      <td>0</td>\n",
       "    </tr>\n",
       "    <tr>\n",
       "      <th>3</th>\n",
       "      <td>263</td>\n",
       "      <td>UNICEF</td>\n",
       "      <td>Ruvuma / Southern Coast</td>\n",
       "      <td>Nanyumbu</td>\n",
       "      <td>58</td>\n",
       "      <td>1986</td>\n",
       "      <td>submersible</td>\n",
       "      <td>vwc</td>\n",
       "      <td>soft</td>\n",
       "      <td>machine dbh</td>\n",
       "      <td>communal standpipe multiple</td>\n",
       "      <td>1</td>\n",
       "    </tr>\n",
       "    <tr>\n",
       "      <th>4</th>\n",
       "      <td>0</td>\n",
       "      <td>Artisan</td>\n",
       "      <td>Lake Victoria</td>\n",
       "      <td>Karagwe</td>\n",
       "      <td>0</td>\n",
       "      <td>0</td>\n",
       "      <td>gravity</td>\n",
       "      <td>other</td>\n",
       "      <td>soft</td>\n",
       "      <td>rainwater harvesting</td>\n",
       "      <td>communal standpipe</td>\n",
       "      <td>0</td>\n",
       "    </tr>\n",
       "  </tbody>\n",
       "</table>\n",
       "</div>"
      ],
      "text/plain": [
       "   gps_height     installer                    basin        lga  population  \\\n",
       "0        1390         Roman               Lake Nyasa     Ludewa         109   \n",
       "1        1399       GRUMETI            Lake Victoria  Serengeti         280   \n",
       "2         686  World vision                  Pangani  Simanjiro         250   \n",
       "3         263        UNICEF  Ruvuma / Southern Coast   Nanyumbu          58   \n",
       "4           0       Artisan            Lake Victoria    Karagwe           0   \n",
       "\n",
       "   construction_year extraction_type management water_quality  \\\n",
       "0               1999         gravity        vwc          soft   \n",
       "1               2010         gravity        wug          soft   \n",
       "2               2009         gravity        vwc          soft   \n",
       "3               1986     submersible        vwc          soft   \n",
       "4                  0         gravity      other          soft   \n",
       "\n",
       "                 source              waterpoint_type  status_group  \n",
       "0                spring           communal standpipe             0  \n",
       "1  rainwater harvesting           communal standpipe             0  \n",
       "2                   dam  communal standpipe multiple             0  \n",
       "3           machine dbh  communal standpipe multiple             1  \n",
       "4  rainwater harvesting           communal standpipe             0  "
      ]
     },
     "execution_count": 12,
     "metadata": {},
     "output_type": "execute_result"
    }
   ],
   "source": [
    "df.head()"
   ]
  },
  {
   "cell_type": "code",
   "execution_count": 13,
   "id": "31a062d6",
   "metadata": {},
   "outputs": [
    {
     "name": "stdout",
     "output_type": "stream",
     "text": [
      "<class 'pandas.core.frame.DataFrame'>\n",
      "Int64Index: 59399 entries, 0 to 59399\n",
      "Data columns (total 12 columns):\n",
      " #   Column             Non-Null Count  Dtype \n",
      "---  ------             --------------  ----- \n",
      " 0   gps_height         59399 non-null  int64 \n",
      " 1   installer          55744 non-null  object\n",
      " 2   basin              59399 non-null  object\n",
      " 3   lga                59399 non-null  object\n",
      " 4   population         59399 non-null  int64 \n",
      " 5   construction_year  59399 non-null  int64 \n",
      " 6   extraction_type    59399 non-null  object\n",
      " 7   management         59399 non-null  object\n",
      " 8   water_quality      59399 non-null  object\n",
      " 9   source             59399 non-null  object\n",
      " 10  waterpoint_type    59399 non-null  object\n",
      " 11  status_group       59399 non-null  int64 \n",
      "dtypes: int64(4), object(8)\n",
      "memory usage: 5.9+ MB\n"
     ]
    }
   ],
   "source": [
    "df.info()"
   ]
  },
  {
   "cell_type": "code",
   "execution_count": 14,
   "id": "c47b405d",
   "metadata": {},
   "outputs": [
    {
     "data": {
      "text/plain": [
       "False    43196\n",
       "True     16203\n",
       "dtype: int64"
      ]
     },
     "execution_count": 14,
     "metadata": {},
     "output_type": "execute_result"
    }
   ],
   "source": [
    "df.duplicated().value_counts()"
   ]
  },
  {
   "cell_type": "code",
   "execution_count": 15,
   "id": "e7be19e0",
   "metadata": {},
   "outputs": [],
   "source": [
    "df.drop_duplicates(inplace=True)"
   ]
  },
  {
   "cell_type": "code",
   "execution_count": 16,
   "id": "a8fb930f",
   "metadata": {},
   "outputs": [
    {
     "data": {
      "text/plain": [
       "1640"
      ]
     },
     "execution_count": 16,
     "metadata": {},
     "output_type": "execute_result"
    }
   ],
   "source": [
    "df.isna().sum().sum()"
   ]
  },
  {
   "cell_type": "code",
   "execution_count": 17,
   "id": "d645abbc",
   "metadata": {},
   "outputs": [],
   "source": [
    "df.dropna(inplace=True)"
   ]
  },
  {
   "cell_type": "code",
   "execution_count": 18,
   "id": "49fce653",
   "metadata": {
    "scrolled": false
   },
   "outputs": [
    {
     "name": "stdout",
     "output_type": "stream",
     "text": [
      "<class 'pandas.core.frame.DataFrame'>\n",
      "Int64Index: 41556 entries, 0 to 59399\n",
      "Data columns (total 12 columns):\n",
      " #   Column             Non-Null Count  Dtype \n",
      "---  ------             --------------  ----- \n",
      " 0   gps_height         41556 non-null  int64 \n",
      " 1   installer          41556 non-null  object\n",
      " 2   basin              41556 non-null  object\n",
      " 3   lga                41556 non-null  object\n",
      " 4   population         41556 non-null  int64 \n",
      " 5   construction_year  41556 non-null  int64 \n",
      " 6   extraction_type    41556 non-null  object\n",
      " 7   management         41556 non-null  object\n",
      " 8   water_quality      41556 non-null  object\n",
      " 9   source             41556 non-null  object\n",
      " 10  waterpoint_type    41556 non-null  object\n",
      " 11  status_group       41556 non-null  int64 \n",
      "dtypes: int64(4), object(8)\n",
      "memory usage: 4.1+ MB\n"
     ]
    }
   ],
   "source": [
    "df.info()"
   ]
  },
  {
   "cell_type": "code",
   "execution_count": 19,
   "id": "45ac9f53",
   "metadata": {},
   "outputs": [
    {
     "data": {
      "text/plain": [
       "<seaborn.axisgrid.PairGrid at 0x7fc3b1af1340>"
      ]
     },
     "execution_count": 19,
     "metadata": {},
     "output_type": "execute_result"
    },
    {
     "data": {
      "image/png": "[encoded data removed]",
      "text/plain": [
       "<Figure size 720x720 with 20 Axes>"
      ]
     },
     "metadata": {},
     "output_type": "display_data"
    }
   ],
   "source": [
    "sns.pairplot(df)"
   ]
  },
  {
   "cell_type": "code",
   "execution_count": 20,
   "id": "69ea33b0",
   "metadata": {},
   "outputs": [],
   "source": [
    "X = df.drop('status_group', axis=1)\n",
    "y = df.status_group"
   ]
  },
  {
   "cell_type": "code",
   "execution_count": null,
   "id": "a41ab894",
   "metadata": {},
   "outputs": [],
   "source": []
  },
  {
   "cell_type": "code",
   "execution_count": 21,
   "id": "189f9d65",
   "metadata": {},
   "outputs": [],
   "source": [
    "X_cat = X.select_dtypes('object')\n",
    "\n",
    "ohe = OneHotEncoder(sparse=False, handle_unknown='ignore')\n",
    "\n",
    "dums = ohe.fit_transform(X_cat)\n",
    "dums_df = pd.DataFrame(dums,\n",
    "                       columns=ohe.get_feature_names(),\n",
    "                       index=X_cat.index)"
   ]
  },
  {
   "cell_type": "code",
   "execution_count": 22,
   "id": "e996b9df",
   "metadata": {},
   "outputs": [],
   "source": [
    "X_nums = X.select_dtypes('int64')"
   ]
  },
  {
   "cell_type": "code",
   "execution_count": 23,
   "id": "36693871",
   "metadata": {},
   "outputs": [],
   "source": [
    "X = pd.concat([X_nums, dums_df], axis=1)"
   ]
  },
  {
   "cell_type": "code",
   "execution_count": 24,
   "id": "cfc50ee6",
   "metadata": {},
   "outputs": [],
   "source": [
    "X_train, X_test, y_train, y_test = train_test_split(X, y, test_size=.1, random_state=42)"
   ]
  },
  {
   "cell_type": "code",
   "execution_count": 25,
   "id": "0305bfc3",
   "metadata": {},
   "outputs": [],
   "source": [
    "# X_train.population.where(X_train.population != 0, X_train.population.median(), inplace=True)"
   ]
  },
  {
   "cell_type": "code",
   "execution_count": 26,
   "id": "cc79fb96",
   "metadata": {},
   "outputs": [
    {
     "data": {
      "text/plain": [
       "1       5245\n",
       "0       5202\n",
       "200     1620\n",
       "150     1593\n",
       "250     1448\n",
       "        ... \n",
       "1439       1\n",
       "4145       1\n",
       "3241       1\n",
       "5200       1\n",
       "538        1\n",
       "Name: population, Length: 995, dtype: int64"
      ]
     },
     "execution_count": 26,
     "metadata": {},
     "output_type": "execute_result"
    }
   ],
   "source": [
    "X_train.population.value_counts()"
   ]
  },
  {
   "cell_type": "code",
   "execution_count": 27,
   "id": "d1f6f054",
   "metadata": {},
   "outputs": [
    {
     "data": {
      "text/plain": [
       " 0       4410\n",
       "-15        51\n",
       " 303       47\n",
       "-13        46\n",
       "-16        46\n",
       "         ... \n",
       " 2342       1\n",
       "-57         1\n",
       " 2391       1\n",
       " 2120       1\n",
       " 2413       1\n",
       "Name: gps_height, Length: 2409, dtype: int64"
      ]
     },
     "execution_count": 27,
     "metadata": {},
     "output_type": "execute_result"
    }
   ],
   "source": [
    "X_train.gps_height.value_counts()"
   ]
  },
  {
   "cell_type": "code",
   "execution_count": 28,
   "id": "a55f7cb1",
   "metadata": {
    "scrolled": true
   },
   "outputs": [
    {
     "data": {
      "text/plain": [
       "1000.5"
      ]
     },
     "execution_count": 28,
     "metadata": {},
     "output_type": "execute_result"
    }
   ],
   "source": [
    "X_train.gps_height.median()"
   ]
  },
  {
   "cell_type": "code",
   "execution_count": 29,
   "id": "dbd6b4ff",
   "metadata": {},
   "outputs": [
    {
     "data": {
      "text/plain": [
       "1998.0"
      ]
     },
     "execution_count": 29,
     "metadata": {},
     "output_type": "execute_result"
    }
   ],
   "source": [
    "X_train.construction_year.median()"
   ]
  },
  {
   "cell_type": "code",
   "execution_count": 30,
   "id": "9b7aade9",
   "metadata": {},
   "outputs": [
    {
     "name": "stderr",
     "output_type": "stream",
     "text": [
      "/Users/patrick/opt/anaconda3/lib/python3.9/site-packages/pandas/core/generic.py:8870: SettingWithCopyWarning: \n",
      "A value is trying to be set on a copy of a slice from a DataFrame\n",
      "\n",
      "See the caveats in the documentation: https://pandas.pydata.org/pandas-docs/stable/user_guide/indexing.html#returning-a-view-versus-a-copy\n",
      "  return self._update_inplace(result)\n"
     ]
    }
   ],
   "source": [
    "X_train.construction_year.where(X_train.construction_year != 0, X_train.construction_year.median(), inplace=True)"
   ]
  },
  {
   "cell_type": "code",
   "execution_count": 31,
   "id": "171f7461",
   "metadata": {},
   "outputs": [
    {
     "data": {
      "text/plain": [
       "1998    5378\n",
       "2008    2289\n",
       "2009    2232\n",
       "2010    2195\n",
       "2007    1391\n",
       "2000    1370\n",
       "2006    1298\n",
       "2003    1149\n",
       "2011    1106\n",
       "2004     986\n",
       "2012     962\n",
       "2002     928\n",
       "2005     899\n",
       "1995     892\n",
       "1978     888\n",
       "1999     884\n",
       "1985     798\n",
       "1996     725\n",
       "1984     688\n",
       "1994     657\n",
       "1982     653\n",
       "1972     616\n",
       "1990     589\n",
       "1997     569\n",
       "1992     569\n",
       "1974     568\n",
       "1980     554\n",
       "1993     554\n",
       "2001     480\n",
       "1988     470\n",
       "1983     428\n",
       "1986     393\n",
       "1975     371\n",
       "1976     349\n",
       "1991     291\n",
       "1970     280\n",
       "1989     277\n",
       "1987     266\n",
       "1981     204\n",
       "1977     182\n",
       "1979     170\n",
       "1973     162\n",
       "2013     154\n",
       "1971     122\n",
       "1963      76\n",
       "1967      71\n",
       "1968      68\n",
       "1969      49\n",
       "1960      40\n",
       "1964      30\n",
       "1962      27\n",
       "1961      19\n",
       "1965      17\n",
       "1966      17\n",
       "Name: construction_year, dtype: int64"
      ]
     },
     "execution_count": 31,
     "metadata": {},
     "output_type": "execute_result"
    }
   ],
   "source": [
    "X_train.construction_year.value_counts()"
   ]
  },
  {
   "cell_type": "code",
   "execution_count": 32,
   "id": "61693835",
   "metadata": {},
   "outputs": [
    {
     "name": "stdout",
     "output_type": "stream",
     "text": [
      "<class 'pandas.core.frame.DataFrame'>\n",
      "Int64Index: 37400 entries, 31009 to 21130\n",
      "Columns: 2331 entries, gps_height to x7_other\n",
      "dtypes: float64(2328), int64(3)\n",
      "memory usage: 665.4 MB\n"
     ]
    }
   ],
   "source": [
    "X_train.info()"
   ]
  },
  {
   "cell_type": "code",
   "execution_count": 33,
   "id": "2160c381",
   "metadata": {},
   "outputs": [],
   "source": [
    "X_train_nums = X_train.select_dtypes('int64')\n",
    "\n",
    "ss = StandardScaler()\n",
    "\n",
    "ss.fit(X_train_nums)\n",
    "nums_df = pd.DataFrame(ss.transform(X_train_nums),\n",
    "                      index=X_train_nums.index)"
   ]
  },
  {
   "cell_type": "code",
   "execution_count": 34,
   "id": "513c2a37",
   "metadata": {},
   "outputs": [],
   "source": [
    "X_cats = X_train.select_dtypes('float64')"
   ]
  },
  {
   "cell_type": "code",
   "execution_count": 35,
   "id": "77e63ac3",
   "metadata": {},
   "outputs": [],
   "source": [
    "X_train_clean = pd.concat([nums_df, X_cats], axis=1)"
   ]
  },
  {
   "cell_type": "code",
   "execution_count": 36,
   "id": "f5c635b5",
   "metadata": {},
   "outputs": [],
   "source": [
    "# X_test.population.where(X_test.population != 0, X_test.population.median(), inplace=True)"
   ]
  },
  {
   "cell_type": "code",
   "execution_count": 37,
   "id": "f9207d26",
   "metadata": {},
   "outputs": [
    {
     "name": "stderr",
     "output_type": "stream",
     "text": [
      "/Users/patrick/opt/anaconda3/lib/python3.9/site-packages/pandas/core/generic.py:8870: SettingWithCopyWarning: \n",
      "A value is trying to be set on a copy of a slice from a DataFrame\n",
      "\n",
      "See the caveats in the documentation: https://pandas.pydata.org/pandas-docs/stable/user_guide/indexing.html#returning-a-view-versus-a-copy\n",
      "  return self._update_inplace(result)\n"
     ]
    }
   ],
   "source": [
    "X_test.construction_year.where(X_test.construction_year != 0, X_test.construction_year.median(), inplace=True)"
   ]
  },
  {
   "cell_type": "code",
   "execution_count": 38,
   "id": "e5a344c0",
   "metadata": {},
   "outputs": [],
   "source": [
    "X_test_nums = X_test.select_dtypes('int64')\n",
    "\n",
    "ss = StandardScaler()\n",
    "\n",
    "ss.fit(X_test_nums)\n",
    "test_nums_df = pd.DataFrame(ss.transform(X_test_nums),\n",
    "                      index=X_test_nums.index)"
   ]
  },
  {
   "cell_type": "code",
   "execution_count": 39,
   "id": "eedd199e",
   "metadata": {},
   "outputs": [],
   "source": [
    "X_test_cats = X_test.select_dtypes('float64')"
   ]
  },
  {
   "cell_type": "code",
   "execution_count": 40,
   "id": "8da56cb3",
   "metadata": {},
   "outputs": [],
   "source": [
    "X_test_clean = pd.concat([test_nums_df, X_test_cats], axis=1)"
   ]
  },
  {
   "cell_type": "code",
   "execution_count": 41,
   "id": "1de979be",
   "metadata": {
    "scrolled": true
   },
   "outputs": [
    {
     "name": "stdout",
     "output_type": "stream",
     "text": [
      "<class 'pandas.core.frame.DataFrame'>\n",
      "Int64Index: 37400 entries, 31009 to 21130\n",
      "Columns: 2331 entries, 0 to x7_other\n",
      "dtypes: float64(2331)\n",
      "memory usage: 665.4 MB\n"
     ]
    }
   ],
   "source": [
    "X_train_clean.info()"
   ]
  },
  {
   "cell_type": "code",
   "execution_count": 42,
   "id": "a459d84a",
   "metadata": {
    "scrolled": false
   },
   "outputs": [
    {
     "name": "stdout",
     "output_type": "stream",
     "text": [
      "<class 'pandas.core.frame.DataFrame'>\n",
      "Int64Index: 4156 entries, 48942 to 34924\n",
      "Columns: 2331 entries, 0 to x7_other\n",
      "dtypes: float64(2331)\n",
      "memory usage: 73.9 MB\n"
     ]
    }
   ],
   "source": [
    "X_test_clean.info()"
   ]
  },
  {
   "cell_type": "markdown",
   "id": "a59c7484",
   "metadata": {},
   "source": [
    "# Logistic Regression"
   ]
  },
  {
   "cell_type": "code",
   "execution_count": 43,
   "id": "eb93f219",
   "metadata": {},
   "outputs": [
    {
     "data": {
      "text/plain": [
       "LogisticRegression(fit_intercept=False, solver='liblinear')"
      ]
     },
     "execution_count": 43,
     "metadata": {},
     "output_type": "execute_result"
    }
   ],
   "source": [
    "logreg = LogisticRegression(fit_intercept=False, solver='liblinear')\n",
    "model_log = logreg.fit(X_train_clean, y_train)\n",
    "model_log"
   ]
  },
  {
   "cell_type": "code",
   "execution_count": 44,
   "id": "cd502c12",
   "metadata": {},
   "outputs": [],
   "source": [
    "y_hat_train = logreg.predict(X_train_clean)\n",
    "y_hat_test = logreg.predict(X_test_clean)"
   ]
  },
  {
   "cell_type": "code",
   "execution_count": 45,
   "id": "644daec0",
   "metadata": {
    "scrolled": true
   },
   "outputs": [
    {
     "name": "stdout",
     "output_type": "stream",
     "text": [
      "training accuracy: 0.7463368983957219\n"
     ]
    }
   ],
   "source": [
    "print(f\"training accuracy: {model_log.score(X_train_clean, y_train)}\")"
   ]
  },
  {
   "cell_type": "code",
   "execution_count": 46,
   "id": "85bf6683",
   "metadata": {},
   "outputs": [
    {
     "name": "stdout",
     "output_type": "stream",
     "text": [
      "[[17223  3382]\n",
      " [ 6105 10690]]\n"
     ]
    }
   ],
   "source": [
    "from sklearn.metrics import confusion_matrix\n",
    "print(confusion_matrix(y_train, y_hat_train))"
   ]
  },
  {
   "cell_type": "code",
   "execution_count": 47,
   "id": "e244857c",
   "metadata": {},
   "outputs": [],
   "source": [
    "from sklearn.metrics import precision_score, recall_score, accuracy_score, f1_score\n",
    "precision = precision_score(y_test, y_hat_test)\n",
    "recall = recall_score(y_test, y_hat_test)\n",
    "accuracy = accuracy_score(y_test, y_hat_test)\n",
    "F1 = f1_score(y_test, y_hat_test)"
   ]
  },
  {
   "cell_type": "code",
   "execution_count": 48,
   "id": "6b7dee58",
   "metadata": {},
   "outputs": [
    {
     "name": "stdout",
     "output_type": "stream",
     "text": [
      "0.7302672467371037\n",
      "0.7264196342637151\n",
      "0.6256656017039404\n",
      "0.6739317464869515\n"
     ]
    }
   ],
   "source": [
    "print(precision)\n",
    "print(accuracy)\n",
    "print(recall)\n",
    "print(F1)"
   ]
  },
  {
   "cell_type": "markdown",
   "id": "dc7a9402",
   "metadata": {},
   "source": [
    "# KNN"
   ]
  },
  {
   "cell_type": "code",
   "execution_count": 49,
   "id": "e50a80c7",
   "metadata": {},
   "outputs": [
    {
     "data": {
      "text/plain": [
       "KNeighborsClassifier(metric='manhattan')"
      ]
     },
     "execution_count": 49,
     "metadata": {},
     "output_type": "execute_result"
    }
   ],
   "source": [
    "neigh = KNeighborsClassifier(n_neighbors=5, metric='manhattan')\n",
    "neigh.fit(X_train_clean, y_train)"
   ]
  },
  {
   "cell_type": "code",
   "execution_count": null,
   "id": "73dba479",
   "metadata": {},
   "outputs": [],
   "source": [
    "knn_preds = neigh.predict(X_train_clean)"
   ]
  },
  {
   "cell_type": "code",
   "execution_count": null,
   "id": "1c2689dd",
   "metadata": {},
   "outputs": [],
   "source": [
    "print(f\"training accuracy: {neigh.score(X_train_clean, y_train)}\")"
   ]
  },
  {
   "cell_type": "code",
   "execution_count": null,
   "id": "2233adcb",
   "metadata": {},
   "outputs": [],
   "source": [
    "print(confusion_matrix(y_train, knn_preds))"
   ]
  },
  {
   "cell_type": "code",
   "execution_count": null,
   "id": "37dbd872",
   "metadata": {},
   "outputs": [],
   "source": [
    "knn_test_preds = neigh.predict(X_test_clean)"
   ]
  },
  {
   "cell_type": "code",
   "execution_count": null,
   "id": "af4946c9",
   "metadata": {},
   "outputs": [],
   "source": [
    "print(f\"testing accuracy: {neigh.score(X_test_clean, y_test)}\")"
   ]
  },
  {
   "cell_type": "code",
   "execution_count": null,
   "id": "e9046dfc",
   "metadata": {
    "scrolled": true
   },
   "outputs": [],
   "source": [
    "print(confusion_matrix(y_test, knn_test_preds))"
   ]
  },
  {
   "cell_type": "code",
   "execution_count": null,
   "id": "76be1bbf",
   "metadata": {},
   "outputs": [],
   "source": [
    "from yellowbrick.classifier import confusion_matrix\n",
    "\n",
    "visualizer = confusion_matrix(neigh, X_test_clean, y_test, cmap='Reds')"
   ]
  },
  {
   "cell_type": "code",
   "execution_count": null,
   "id": "4df404ad",
   "metadata": {},
   "outputs": [],
   "source": [
    "precision = precision_score(y_test, knn_test_preds)\n",
    "recall = recall_score(y_test, knn_test_preds)\n",
    "accuracy = accuracy_score(y_test, knn_test_preds)\n",
    "F1 = f1_score(y_test, knn_test_preds)"
   ]
  },
  {
   "cell_type": "code",
   "execution_count": null,
   "id": "bdd53082",
   "metadata": {
    "scrolled": true
   },
   "outputs": [],
   "source": [
    "print(precision)\n",
    "print(accuracy)\n",
    "print(recall)\n",
    "print(F1)"
   ]
  },
  {
   "cell_type": "code",
   "execution_count": null,
   "id": "41cf6dbd",
   "metadata": {},
   "outputs": [],
   "source": [
    "X_t, X_val, y_t, y_val = train_test_split(X_train_clean, y_train,\n",
    "                                          test_size=0.1)\n",
    "\n",
    "knn_val = KNeighborsClassifier()\n",
    "\n",
    "knn_val.fit(X_t, y_t)\n",
    "print(f\"training accuracy: {knn_val.score(X_t, y_t)}\")\n",
    "print(f\"validation accuracy: {knn_val.score(X_val, y_val)}\")\n",
    "\n",
    "y_hat_val = knn_val.predict(X_val)\n",
    "\n",
    "print(confusion_matrix(knn_val, X_val, y_val))"
   ]
  },
  {
   "cell_type": "code",
   "execution_count": null,
   "id": "5b75992f",
   "metadata": {},
   "outputs": [],
   "source": [
    "precision = precision_score(y_val, y_hat_val)\n",
    "recall = recall_score(y_val, y_hat_val)\n",
    "accuracy = accuracy_score(y_val, y_hat_val)\n",
    "F1 = f1_score(y_val, y_hat_val)\n",
    "\n",
    "print(precision)\n",
    "print(accuracy)\n",
    "print(recall)\n",
    "print(F1)"
   ]
  },
  {
   "cell_type": "markdown",
   "id": "fa493c25",
   "metadata": {},
   "source": [
    "# Naive Bayes"
   ]
  },
  {
   "cell_type": "code",
   "execution_count": null,
   "id": "5c9d11b7",
   "metadata": {},
   "outputs": [],
   "source": [
    "gnb = GaussianNB()\n",
    "\n",
    "gnb.fit(X_train, y_train)\n",
    "\n",
    "gnb.predict(X_test_clean)\n",
    "\n",
    "gnb.score(X_test_clean, y_test)"
   ]
  },
  {
   "cell_type": "markdown",
   "id": "a63b08fa",
   "metadata": {},
   "source": [
    "# Decision Tree"
   ]
  },
  {
   "cell_type": "code",
   "execution_count": null,
   "id": "3b4b0d3c",
   "metadata": {},
   "outputs": [],
   "source": [
    "tree_clf = DecisionTreeClassifier(max_depth=4, criterion='gini')\n",
    "\n",
    "tree_clf.fit(X_train, y_train)\n",
    "\n",
    "y_pred = tree_clf.predict(X_test_clean)\n",
    "\n",
    "accuracy_score(y_test, y_pred)"
   ]
  },
  {
   "cell_type": "code",
   "execution_count": null,
   "id": "277392c7",
   "metadata": {},
   "outputs": [],
   "source": []
  }
 ],
 "metadata": {
  "kernelspec": {
   "display_name": "Python 3 (ipykernel)",
   "language": "python",
   "name": "python3"
  },
  "language_info": {
   "codemirror_mode": {
    "name": "ipython",
    "version": 3
   },
   "file_extension": ".py",
   "mimetype": "text/x-python",
   "name": "python",
   "nbconvert_exporter": "python",
   "pygments_lexer": "ipython3",
   "version": "3.9.7"
  }
 },
 "nbformat": 4,
 "nbformat_minor": 5
}
