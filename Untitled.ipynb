{
 "cells": [
  {
   "cell_type": "markdown",
   "id": "eda8dad4",
   "metadata": {},
   "source": [
    "# Business Understanding\n",
    "\n",
    "Tanzania is a developing country in eastern Africa. It is a geographically diverse country with mountainous terrain and flat plains. The country borders the Indian Ocean in the east, and the Great Rift Valley on its western border. A good portion of the country is below sea level, and much of it is 900 ft above sea level. Water is a tricky resource in the country and many organizations have installed water pumps in villages around the country in an effort to provide clean drinking water to the poeple. These pumps vary in how they extract water, the water quality, and what basin the water comes from. Pumps break down and require maintenance which can be quite a task considering there are over 57,000 pumps in the country.\n",
    "\n",
    "We have been asked by the Tanzanian Government to create a predicition model that will predict the condition of a water pump; functional, or non-functional. This will allow them strategically mobilize repair teams and to efficiently react when resources are needed in a particular area, such as supplying potable water to a village whose pump is non-functional and needs repair."
   ]
  },
  {
   "cell_type": "markdown",
   "id": "d98e187e",
   "metadata": {},
   "source": [
    "#### Our null hypothesis is that we are not able to predict whether a well is functional or not.\n",
    "\n",
    "#### Our alternative hypothesis is that we can predict the condition of a well."
   ]
  },
  {
   "cell_type": "markdown",
   "id": "cb2e26dd",
   "metadata": {},
   "source": [
    "> A false positive would be to predict a well is functional when it is not.\n",
    "\n",
    "> A false negative would be to predict a well is non-functional when it is."
   ]
  },
  {
   "cell_type": "code",
   "execution_count": 1,
   "id": "d0fde0ac",
   "metadata": {},
   "outputs": [],
   "source": [
    "import numpy as np\n",
    "import pandas as pd\n",
    "import missingno as msno\n",
    "import matplotlib.pyplot as plt\n",
    "import seaborn as sns\n",
    "import yellowbrick as yb\n",
    "import folium\n",
    "sns.set(style=\"whitegrid\")\n",
    "pd.set_option('display.max_columns',None)\n",
    "\n",
    "from scipy import stats as stats\n",
    "from sklearn.linear_model import LogisticRegression\n",
    "from sklearn.neighbors import KNeighborsClassifier\n",
    "from sklearn.tree import DecisionTreeClassifier\n",
    "from sklearn.ensemble import RandomForestRegressor, RandomForestClassifier\n",
    "from sklearn.metrics import confusion_matrix, plot_confusion_matrix,\\\n",
    "    precision_score, recall_score, accuracy_score, f1_score, log_loss,\\\n",
    "    roc_curve, roc_auc_score, classification_report\n",
    "from sklearn.model_selection import train_test_split, GridSearchCV, cross_val_score, RandomizedSearchCV\n",
    "from mlxtend.feature_selection import SequentialFeatureSelector\n",
    "from sklearn.preprocessing import OneHotEncoder, StandardScaler\n",
    "from sklearn.impute import SimpleImputer\n",
    "from sklearn.pipeline import Pipeline\n",
    "from sklearn.compose import ColumnTransformer\n",
    "from sklearn.naive_bayes import MultinomialNB, GaussianNB\n",
    "from sklearn.feature_selection import SelectFromModel\n",
    "from time import time\n",
    "pd.set_option(\"mode.chained_assignment\", None)"
   ]
  },
  {
   "cell_type": "code",
   "execution_count": 3,
   "id": "99215401",
   "metadata": {},
   "outputs": [],
   "source": [
    "V = pd.read_csv('Data/values.csv')\n",
    "y = pd.read_csv('Data/labels.csv')"
   ]
  },
  {
   "cell_type": "code",
   "execution_count": 4,
   "id": "f6ae553e",
   "metadata": {},
   "outputs": [],
   "source": [
    "y = y.replace({'status_group': {'functional' : 0, 'non functional' : 1, 'functional needs repair' : 1}})"
   ]
  },
  {
   "cell_type": "code",
   "execution_count": 5,
   "id": "b56c28a2",
   "metadata": {},
   "outputs": [
    {
     "data": {
      "text/plain": [
       "0    32259\n",
       "1    27141\n",
       "Name: status_group, dtype: int64"
      ]
     },
     "execution_count": 5,
     "metadata": {},
     "output_type": "execute_result"
    }
   ],
   "source": [
    "y.status_group.value_counts()"
   ]
  },
  {
   "cell_type": "code",
   "execution_count": 6,
   "id": "ad18151c",
   "metadata": {},
   "outputs": [],
   "source": [
    "df_lat_long = V['latitude'].to_frame().join(V['longitude']).join(y)\n",
    "map_center = [df_lat_long['latitude'].mean(), df_lat_long['longitude'].mean()]"
   ]
  },
  {
   "cell_type": "code",
   "execution_count": 7,
   "id": "0f9a43ee",
   "metadata": {},
   "outputs": [],
   "source": [
    "# map1 = folium.Map(location = map_center, tiles='Openstreetmap', zoom_start = 5, control_scale=True, prefer_canvas=True)\n",
    "# for index, loc in df_lat_long.iterrows():\n",
    "#     if loc['status_group']==0:\n",
    "#         color = 'green'\n",
    "#     elif loc['status_group']==1:\n",
    "#         color = \"red\"\n",
    "#     elif loc['status_group']==2:\n",
    "#         color = 'blue'\n",
    "#     else:\n",
    "#         color = 'black'\n",
    "#     folium.CircleMarker([loc['latitude'], loc['longitude']], radius=2, weight=1, popup=loc['id'], fill_color=color, stroke=False).add_to(map1)\n",
    "# folium.LayerControl().add_to(map1)\n",
    "\n",
    "# map1"
   ]
  },
  {
   "cell_type": "code",
   "execution_count": 8,
   "id": "a158c727",
   "metadata": {},
   "outputs": [],
   "source": [
    "df_all = V.join(y.set_index('id'), on='id')"
   ]
  },
  {
   "cell_type": "code",
   "execution_count": 9,
   "id": "70cde023",
   "metadata": {},
   "outputs": [],
   "source": [
    "df_all.drop(labels=df_all.id[49651], inplace=True)"
   ]
  },
  {
   "cell_type": "code",
   "execution_count": 10,
   "id": "c3b9ba84",
   "metadata": {},
   "outputs": [],
   "source": [
    "# Need to drop features that have no influence, and are repetitive\n",
    "df = df_all.drop(columns=['id', 'amount_tsh', 'date_recorded', 'funder',\n",
    "       'longitude', 'latitude', 'wpt_name', 'num_private',\n",
    "       'subvillage', 'region', 'region_code', 'district_code',\n",
    "       'ward', 'public_meeting', 'recorded_by',\n",
    "       'scheme_management', 'scheme_name', 'permit', \n",
    "       'extraction_type_group', 'extraction_type_class',\n",
    "       'management_group', 'payment', 'payment_type',\n",
    "       'quality_group', 'quantity', 'quantity_group',\n",
    "       'source_type', 'source_class',\n",
    "       'waterpoint_type_group'])"
   ]
  },
  {
   "cell_type": "code",
   "execution_count": 11,
   "id": "95305220",
   "metadata": {},
   "outputs": [
    {
     "data": {
      "text/plain": [
       "False    43196\n",
       "True     16203\n",
       "dtype: int64"
      ]
     },
     "execution_count": 11,
     "metadata": {},
     "output_type": "execute_result"
    }
   ],
   "source": [
    "df.duplicated().value_counts()"
   ]
  },
  {
   "cell_type": "code",
   "execution_count": 12,
   "id": "052e0015",
   "metadata": {},
   "outputs": [],
   "source": [
    "# df.drop_duplicates(inplace=True)"
   ]
  },
  {
   "cell_type": "code",
   "execution_count": 13,
   "id": "a1b50223",
   "metadata": {},
   "outputs": [
    {
     "data": {
      "text/plain": [
       "3655"
      ]
     },
     "execution_count": 13,
     "metadata": {},
     "output_type": "execute_result"
    }
   ],
   "source": [
    "df.isna().sum().sum()"
   ]
  },
  {
   "cell_type": "code",
   "execution_count": 14,
   "id": "1e1ce82d",
   "metadata": {},
   "outputs": [],
   "source": [
    "df.dropna(inplace=True)"
   ]
  },
  {
   "cell_type": "code",
   "execution_count": 15,
   "id": "e60329eb",
   "metadata": {},
   "outputs": [
    {
     "data": {
      "image/png": "[encoded data removed]",
      "text/plain": [
       "<Figure size 720x720 with 20 Axes>"
      ]
     },
     "metadata": {},
     "output_type": "display_data"
    }
   ],
   "source": [
    "sns.pairplot(df)\n",
    "plt.show()"
   ]
  },
  {
   "cell_type": "code",
   "execution_count": 16,
   "id": "1674763a",
   "metadata": {},
   "outputs": [],
   "source": [
    "X = df.drop('status_group', axis=1)\n",
    "y = df.status_group"
   ]
  },
  {
   "cell_type": "code",
   "execution_count": 17,
   "id": "7c31d605",
   "metadata": {},
   "outputs": [],
   "source": [
    "def process_scale (X, y):\n",
    "    X_cat = X.select_dtypes('object')\n",
    "    ohe = OneHotEncoder(sparse=False, handle_unknown='ignore')\n",
    "    dums = ohe.fit_transform(X_cat)\n",
    "    dums_df = pd.DataFrame(dums, columns=ohe.get_feature_names(), index=X_cat.index)\n",
    "\n",
    "    X_nums = X.select_dtypes('int64')\n",
    "    X = pd.concat([X_nums, dums_df], axis=1)\n",
    "\n",
    "    X_train, X_test, y_train, y_test = train_test_split(X, y, test_size=.1, random_state=42)\n",
    "\n",
    "#         X_train.population.where(X_train.population != 0, X_train.population.median(), inplace=True)\n",
    "    X_train.construction_year.where(X_train.construction_year != 0, X_train.construction_year.median(), inplace=True)\n",
    "\n",
    "    X_train_nums = X_train.select_dtypes('int64')\n",
    "    ss = StandardScaler()\n",
    "    ss.fit(X_train_nums)\n",
    "    nums_df = pd.DataFrame(ss.transform(X_train_nums),\n",
    "                      index=X_train_nums.index)\n",
    "    X_cats = X_train.select_dtypes('float64')\n",
    "    X_train_clean = pd.concat([nums_df, X_cats], axis=1)\n",
    "\n",
    "#         X_test.population.where(X_test.population != 0, X_test.population.median(), inplace=True)\n",
    "    X_test.construction_year.where(X_test.construction_year != 0, X_test.construction_year.median(), inplace=True)\n",
    "\n",
    "    X_test_nums = X_test.select_dtypes('int64')\n",
    "    ss = StandardScaler()\n",
    "    ss.fit(X_test_nums)\n",
    "    test_nums_df = pd.DataFrame(ss.transform(X_test_nums),\n",
    "                      index=X_test_nums.index)\n",
    "    X_test_cats = X_test.select_dtypes('float64')\n",
    "    X_test_clean = pd.concat([test_nums_df, X_test_cats], axis=1)\n",
    "\n",
    "    return X_train_clean, X_test_clean, y_train, y_test\n",
    "\n",
    "\n",
    "def process_no_scale (X, y):\n",
    "    X_cat = X.select_dtypes('object')\n",
    "    ohe = OneHotEncoder(sparse=False, handle_unknown='ignore')\n",
    "    dums = ohe.fit_transform(X_cat)\n",
    "    dums_df = pd.DataFrame(dums, columns=ohe.get_feature_names(), index=X_cat.index)\n",
    "\n",
    "    X_nums = X.select_dtypes('int64')\n",
    "    X = pd.concat([X_nums, dums_df], axis=1)\n",
    "\n",
    "    X_train, X_test, y_train, y_test = train_test_split(X, y, test_size=.1, random_state=42)\n",
    "\n",
    "#         X_train.population.where(X_train.population != 0, X_train.population.median(), inplace=True)\n",
    "    X_train.construction_year.where(X_train.construction_year != 0, X_train.construction_year.median(), inplace=True)\n",
    "\n",
    "#         X_test.population.where(X_test.population != 0, X_test.population.median(), inplace=True)\n",
    "    X_test.construction_year.where(X_test.construction_year != 0, X_test.construction_year.median(), inplace=True)\n",
    "    \n",
    "    return X_train, X_test, y_train, y_test"
   ]
  },
  {
   "cell_type": "code",
   "execution_count": null,
   "id": "c4dfd40a",
   "metadata": {},
   "outputs": [],
   "source": [
    "X_train, X_test, y_train, y_test = process_scale(X, y)\n",
    "\n",
    "X_train_ns, X_test_ns, y_train_ns, y_test_ns = process_no_scale(X, y)"
   ]
  },
  {
   "cell_type": "markdown",
   "id": "2c89923c",
   "metadata": {},
   "source": [
    "# Logistic Regression"
   ]
  },
  {
   "cell_type": "code",
   "execution_count": null,
   "id": "72e9b85d",
   "metadata": {},
   "outputs": [],
   "source": [
    "logreg = LogisticRegression(fit_intercept=False, class_weight='balanced', max_iter=1000, solver='lbfgs')\n",
    "model_log = logreg.fit(X_train, y_train)"
   ]
  },
  {
   "cell_type": "code",
   "execution_count": null,
   "id": "8a160c89",
   "metadata": {},
   "outputs": [],
   "source": [
    "print(f\"training accuracy: {model_log.score(X_train, y_train)}\")\n",
    "print(f\"testing accuracy: {model_log.score(X_test, y_test)}\")"
   ]
  },
  {
   "cell_type": "code",
   "execution_count": null,
   "id": "565b36bb",
   "metadata": {},
   "outputs": [],
   "source": [
    "y_hat_test = model_log.predict(X_test)\n",
    "\n",
    "print(confusion_matrix(y_test, y_hat_test))"
   ]
  },
  {
   "cell_type": "code",
   "execution_count": null,
   "id": "673e4d54",
   "metadata": {},
   "outputs": [],
   "source": [
    "precision = precision_score(y_test, y_hat_test)\n",
    "recall = recall_score(y_test, y_hat_test)\n",
    "accuracy = accuracy_score(y_test, y_hat_test)\n",
    "F1 = f1_score(y_test, y_hat_test)\n",
    "\n",
    "print(precision)\n",
    "print(accuracy)\n",
    "print(recall)\n",
    "print(F1)"
   ]
  },
  {
   "cell_type": "markdown",
   "id": "22f4bd07",
   "metadata": {},
   "source": [
    "# K Nearest Neighbors"
   ]
  },
  {
   "cell_type": "code",
   "execution_count": null,
   "id": "444008b7",
   "metadata": {},
   "outputs": [],
   "source": [
    "knn = KNeighborsClassifier(n_neighbors=5, metric='euclidean')\n",
    "knn.fit(X_train, y_train)"
   ]
  },
  {
   "cell_type": "code",
   "execution_count": null,
   "id": "2db169f0",
   "metadata": {},
   "outputs": [],
   "source": [
    "print(f\"training accuracy: {knn.score(X_train, y_train)}\")\n",
    "print(f\"testing accuracy: {knn.score(X_test, y_test)}\")"
   ]
  },
  {
   "cell_type": "code",
   "execution_count": null,
   "id": "864a1389",
   "metadata": {},
   "outputs": [],
   "source": [
    "knn_preds = knn.predict(X_test)"
   ]
  },
  {
   "cell_type": "code",
   "execution_count": null,
   "id": "d04cdff7",
   "metadata": {},
   "outputs": [],
   "source": [
    "print(confusion_matrix(y_test, knn_preds))"
   ]
  },
  {
   "cell_type": "code",
   "execution_count": null,
   "id": "d93e384d",
   "metadata": {},
   "outputs": [],
   "source": [
    "precision = precision_score(y_test, knn_preds)\n",
    "recall = recall_score(y_test, knn_preds)\n",
    "accuracy = accuracy_score(y_test, knn_preds)\n",
    "F1 = f1_score(y_test, knn_preds)\n",
    "\n",
    "print(precision)\n",
    "print(accuracy)\n",
    "print(recall)\n",
    "print(F1)"
   ]
  },
  {
   "cell_type": "markdown",
   "id": "6c299e1c",
   "metadata": {},
   "source": [
    "# Naive Bayes"
   ]
  },
  {
   "cell_type": "code",
   "execution_count": null,
   "id": "85623fca",
   "metadata": {
    "scrolled": true
   },
   "outputs": [],
   "source": [
    "gnb = GaussianNB()\n",
    "\n",
    "gnb.fit(X_train_ns, y_train)\n",
    "\n",
    "print(f\"training accuracy: {gnb.score(X_train, y_train)}\")\n",
    "print(f\"testing accuracy: {gnb.score(X_test, y_test)}\")"
   ]
  },
  {
   "cell_type": "code",
   "execution_count": null,
   "id": "0e45248c",
   "metadata": {},
   "outputs": [],
   "source": [
    "gnb_preds = gnb.predict(X_test)\n",
    "print(confusion_matrix(y_test, gnb_preds))"
   ]
  },
  {
   "cell_type": "code",
   "execution_count": null,
   "id": "6f218bf6",
   "metadata": {},
   "outputs": [],
   "source": [
    "precision = precision_score(y_test, gnb_preds)\n",
    "recall = recall_score(y_test, gnb_preds)\n",
    "accuracy = accuracy_score(y_test, gnb_preds)\n",
    "F1 = f1_score(y_test, gnb_preds)\n",
    "\n",
    "print(precision)\n",
    "print(accuracy)\n",
    "print(recall)\n",
    "print(F1)"
   ]
  },
  {
   "cell_type": "markdown",
   "id": "cedcf736",
   "metadata": {},
   "source": [
    "# Decision Tree"
   ]
  },
  {
   "cell_type": "code",
   "execution_count": null,
   "id": "263fe394",
   "metadata": {},
   "outputs": [],
   "source": [
    "tree = DecisionTreeClassifier(max_depth=10, criterion='gini')\n",
    "\n",
    "tree.fit(X_train_ns, y_train_ns)\n",
    "\n",
    "print(f\"training accuracy: {tree.score(X_train_ns, y_train_ns)}\")\n",
    "print(f\"testing accuracy: {tree.score(X_test_ns, y_test_ns)}\")"
   ]
  },
  {
   "cell_type": "code",
   "execution_count": null,
   "id": "10b3a2bf",
   "metadata": {},
   "outputs": [],
   "source": [
    "tree_preds = tree.predict(X_test_ns)\n",
    "print(confusion_matrix(y_test_ns, tree_preds))"
   ]
  },
  {
   "cell_type": "code",
   "execution_count": null,
   "id": "cf42a110",
   "metadata": {},
   "outputs": [],
   "source": [
    "precision = precision_score(y_test_ns, tree_preds)\n",
    "recall = recall_score(y_test_ns, tree_preds)\n",
    "accuracy = accuracy_score(y_test_ns, tree_preds)\n",
    "F1 = f1_score(y_test_ns, tree_preds)\n",
    "\n",
    "print(precision)\n",
    "print(accuracy)\n",
    "print(recall)\n",
    "print(F1)"
   ]
  },
  {
   "cell_type": "markdown",
   "id": "a0453760",
   "metadata": {},
   "source": [
    "# Random Forest"
   ]
  },
  {
   "cell_type": "code",
   "execution_count": null,
   "id": "bf1f8467",
   "metadata": {},
   "outputs": [],
   "source": [
    "forest = RandomForestClassifier(max_features=None, class_weight=\"balanced\",\n",
    "                            max_depth = 10)\n",
    "\n",
    "forest.fit(X_train_ns, y_train_ns)\n",
    "\n",
    "print(f\"training accuracy: {forest.score(X_train_ns, y_train_ns)}\")\n",
    "print(f\"testing accuracy: {forest.score(X_train_ns, y_train_ns)}\")"
   ]
  },
  {
   "cell_type": "code",
   "execution_count": null,
   "id": "7d781142",
   "metadata": {},
   "outputs": [],
   "source": [
    "forest_preds = forest.predict(X_test_ns)\n",
    "print(confusion_matrix(y_test_ns, forest_preds))"
   ]
  },
  {
   "cell_type": "code",
   "execution_count": null,
   "id": "dffe2a35",
   "metadata": {},
   "outputs": [],
   "source": [
    "precision = precision_score(y_test_ns, forest_preds)\n",
    "recall = recall_score(y_test_ns, forest_preds)\n",
    "accuracy = accuracy_score(y_test_ns, forest_preds)\n",
    "F1 = f1_score(y_test_ns, forest_preds)\n",
    "\n",
    "print(precision)\n",
    "print(accuracy)\n",
    "print(recall)\n",
    "print(F1)"
   ]
  },
  {
   "cell_type": "markdown",
   "id": "a174cc12",
   "metadata": {},
   "source": [
    "# Tuning the KNN Model"
   ]
  },
  {
   "cell_type": "code",
   "execution_count": null,
   "id": "1f63e721",
   "metadata": {},
   "outputs": [],
   "source": [
    "# knn_tuned = KNeighborsClassifier(algorithm='auto')\n",
    "\n",
    "# print('good 1')\n",
    "\n",
    "# parameters_KNN = {\n",
    "#     'n_neighbors': (2,5),\n",
    "#     'leaf_size': (20,40),\n",
    "#     'p': (1,2),\n",
    "#     'weights': ('uniform', 'distance'),\n",
    "#     'metric': ('minkowski', 'chebyshev')\n",
    "# }\n",
    "\n",
    "# print('good 2')\n",
    "\n",
    "# grid_search_KNN = GridSearchCV(\n",
    "#     estimator=knn_tuned,\n",
    "#     param_grid=parameters_KNN,\n",
    "#     scoring = 'recall',\n",
    "#     n_jobs = -1,\n",
    "#     cv = 5\n",
    "# )\n",
    "\n",
    "# print('good 3')\n",
    "\n",
    "# KNN = grid_search_KNN.fit(X_train, y_train)\n",
    "\n",
    "# print('good 4')\n",
    "\n",
    "# print(grid_search_KNN.best_params_ )\n",
    "# print('--------------------------')\n",
    "# print('Best Score - KNN:', grid_search_KNN.best_score_ )"
   ]
  },
  {
   "cell_type": "code",
   "execution_count": 2,
   "id": "1bca3dae",
   "metadata": {},
   "outputs": [
    {
     "ename": "NameError",
     "evalue": "name 'X_train' is not defined",
     "output_type": "error",
     "traceback": [
      "\u001b[0;31m---------------------------------------------------------------------------\u001b[0m",
      "\u001b[0;31mNameError\u001b[0m                                 Traceback (most recent call last)",
      "\u001b[0;32m/var/folders/4t/444kxfjn18909r8jzgjlvxk00000gn/T/ipykernel_938/1310420374.py\u001b[0m in \u001b[0;36m<module>\u001b[0;34m\u001b[0m\n\u001b[1;32m      1\u001b[0m \u001b[0mknn_tuned_1\u001b[0m \u001b[0;34m=\u001b[0m \u001b[0mKNeighborsClassifier\u001b[0m\u001b[0;34m(\u001b[0m\u001b[0mn_neighbors\u001b[0m\u001b[0;34m=\u001b[0m\u001b[0;36m5\u001b[0m\u001b[0;34m,\u001b[0m \u001b[0mleaf_size\u001b[0m\u001b[0;34m=\u001b[0m\u001b[0;36m10\u001b[0m\u001b[0;34m,\u001b[0m \u001b[0mp\u001b[0m\u001b[0;34m=\u001b[0m\u001b[0;36m1\u001b[0m\u001b[0;34m,\u001b[0m \u001b[0mweights\u001b[0m\u001b[0;34m=\u001b[0m\u001b[0;34m'uniform'\u001b[0m\u001b[0;34m)\u001b[0m\u001b[0;34m\u001b[0m\u001b[0;34m\u001b[0m\u001b[0m\n\u001b[0;32m----> 2\u001b[0;31m \u001b[0mknn_tuned_1\u001b[0m\u001b[0;34m.\u001b[0m\u001b[0mfit\u001b[0m\u001b[0;34m(\u001b[0m\u001b[0mX_train\u001b[0m\u001b[0;34m,\u001b[0m \u001b[0my_train\u001b[0m\u001b[0;34m)\u001b[0m\u001b[0;34m\u001b[0m\u001b[0;34m\u001b[0m\u001b[0m\n\u001b[0m\u001b[1;32m      3\u001b[0m \u001b[0mprint\u001b[0m\u001b[0;34m(\u001b[0m\u001b[0;34m'good 1'\u001b[0m\u001b[0;34m)\u001b[0m\u001b[0;34m\u001b[0m\u001b[0;34m\u001b[0m\u001b[0m\n\u001b[1;32m      4\u001b[0m \u001b[0mknn_preds_1\u001b[0m \u001b[0;34m=\u001b[0m \u001b[0mknn_tuned_1\u001b[0m\u001b[0;34m.\u001b[0m\u001b[0mpredict\u001b[0m\u001b[0;34m(\u001b[0m\u001b[0mX_test\u001b[0m\u001b[0;34m)\u001b[0m\u001b[0;34m\u001b[0m\u001b[0;34m\u001b[0m\u001b[0m\n\u001b[1;32m      5\u001b[0m \u001b[0mprint\u001b[0m\u001b[0;34m(\u001b[0m\u001b[0;34m'good 2'\u001b[0m\u001b[0;34m)\u001b[0m\u001b[0;34m\u001b[0m\u001b[0;34m\u001b[0m\u001b[0m\n",
      "\u001b[0;31mNameError\u001b[0m: name 'X_train' is not defined"
     ]
    }
   ],
   "source": [
    "knn_tuned_1 = KNeighborsClassifier(n_neighbors=5, leaf_size=10, p=1, weights='uniform')\n",
    "knn_tuned_1.fit(X_train, y_train)\n",
    "print('good 1')\n",
    "knn_preds_1 = knn_tuned_1.predict(X_test)\n",
    "print('good 2')\n",
    "precision1 = precision_score(y_test, knn_preds_1)\n",
    "recall = recall_score(y_test, knn_preds_1)\n",
    "print('good 3')\n",
    "print(precision)\n",
    "print(recall)"
   ]
  },
  {
   "cell_type": "code",
   "execution_count": null,
   "id": "bf38c9ca",
   "metadata": {},
   "outputs": [],
   "source": [
    "knn_tuned_2 = KNeighborsClassifier(n_neighbors=5, leaf_size=10, p=2, weights='uniform')\n",
    "knn_tuned_2.fit(X_train, y_train)\n",
    "\n",
    "knn_preds_2 = knn_tuned_2.predict(X_test)\n",
    "\n",
    "precision = precision_score(y_test, knn_preds_2)\n",
    "recall = recall_score(y_test, knn_preds_2)\n",
    "\n",
    "print(precision)\n",
    "print(recall)"
   ]
  },
  {
   "cell_type": "code",
   "execution_count": null,
   "id": "7b334152",
   "metadata": {},
   "outputs": [],
   "source": [
    "knn_tuned_3 = KNeighborsClassifier(n_neighbors=5, leaf_size=10, p=1, weights='distance')\n",
    "knn_tuned_3.fit(X_train, y_train)\n",
    "\n",
    "knn_preds_3 = knn_tuned_3.predict(X_test)\n",
    "\n",
    "precision = precision_score(y_test, knn_preds_3)\n",
    "recall = recall_score(y_test, knn_preds_3)\n",
    "\n",
    "print(precision)\n",
    "print(recall)"
   ]
  },
  {
   "cell_type": "code",
   "execution_count": null,
   "id": "3da51211",
   "metadata": {},
   "outputs": [],
   "source": [
    "knn_tuned_4 = KNeighborsClassifier(n_neighbors=5, leaf_size=10, p=2, weights='distance')\n",
    "knn_tuned_4.fit(X_train, y_train)\n",
    "\n",
    "knn_preds_4 = knn_tuned_4.predict(X_test)\n",
    "\n",
    "precision = precision_score(y_test, knn_preds_4)\n",
    "recall = recall_score(y_test, knn_preds_4)\n",
    "\n",
    "print(precision)\n",
    "print(recall)"
   ]
  },
  {
   "cell_type": "code",
   "execution_count": null,
   "id": "89d5e8ba",
   "metadata": {},
   "outputs": [],
   "source": [
    "knn_tuned_5 = KNeighborsClassifier(n_neighbors=5, leaf_size=10, weights='uniform', metric='chebyshev')\n",
    "knn_tuned_5.fit(X_train, y_train)\n",
    "\n",
    "knn_preds_5 = knn_tuned_5.predict(X_test)\n",
    "\n",
    "precision = precision_score(y_test, knn_preds_5)\n",
    "recall = recall_score(y_test, knn_preds_5)\n",
    "\n",
    "print(precision)\n",
    "print(recall)"
   ]
  },
  {
   "cell_type": "code",
   "execution_count": null,
   "id": "4535a697",
   "metadata": {},
   "outputs": [],
   "source": [
    "knn_tuned_6 = KNeighborsClassifier(n_neighbors=5, leaf_size=10, weights='distance', metric='chebyshev')\n",
    "knn_tuned_6.fit(X_train, y_train)\n",
    "\n",
    "knn_preds_6 = knn_tuned_6.predict(X_test)\n",
    "\n",
    "precision = precision_score(y_test, knn_preds_6)\n",
    "recall = recall_score(y_test, knn_preds_6)\n",
    "\n",
    "print(precision)\n",
    "print(recall)"
   ]
  },
  {
   "cell_type": "code",
   "execution_count": null,
   "id": "bdf3a7a1",
   "metadata": {},
   "outputs": [],
   "source": [
    "knn_tuned_7 = KNeighborsClassifier(n_neighbors=5, leaf_size=20, p=1, weights='uniform', metric='minkowski')\n",
    "knn_tuned_7.fit(X_train, y_train)\n",
    "\n",
    "knn_preds_7 = knn_tuned_7.predict(X_test)\n",
    "\n",
    "precision = precision_score(y_test, knn_preds_7)\n",
    "recall = recall_score(y_test, knn_preds_7)\n",
    "\n",
    "print(precision)\n",
    "print(recall)"
   ]
  },
  {
   "cell_type": "code",
   "execution_count": null,
   "id": "6d00f02a",
   "metadata": {},
   "outputs": [],
   "source": [
    "knn_tuned_8 = KNeighborsClassifier(n_neighbors=5, leaf_size=20, p=1, weights='distance', metric='minkowski')\n",
    "knn_tuned_8.fit(X_train, y_train)\n",
    "\n",
    "knn_preds_8 = knn_tuned_8.predict(X_test)\n",
    "\n",
    "precision = precision_score(y_test, knn_preds_8)\n",
    "recall = recall_score(y_test, knn_preds_8)\n",
    "\n",
    "print(precision)\n",
    "print(recall)"
   ]
  },
  {
   "cell_type": "code",
   "execution_count": null,
   "id": "d0637969",
   "metadata": {},
   "outputs": [],
   "source": [
    "knn_tuned_9 = KNeighborsClassifier(n_neighbors=5, leaf_size=20, p=2, weights='uniform', metric='minkowski')\n",
    "knn_tuned_9.fit(X_train, y_train)\n",
    "\n",
    "knn_preds_9 = knn_tuned_9.predict(X_test)\n",
    "\n",
    "precision = precision_score(y_test, knn_preds_9)\n",
    "recall = recall_score(y_test, knn_preds_9)\n",
    "\n",
    "print(precision)\n",
    "print(recall)"
   ]
  },
  {
   "cell_type": "code",
   "execution_count": null,
   "id": "75d34e69",
   "metadata": {},
   "outputs": [],
   "source": [
    "knn_tuned_10 = KNeighborsClassifier(n_neighbors=5, leaf_size=20, p=2, weights='distance', metric='minkowski')\n",
    "knn_tuned_10.fit(X_train, y_train)\n",
    "\n",
    "knn_preds_10 = knn_tuned_10.predict(X_test)\n",
    "\n",
    "precision = precision_score(y_test, knn_preds_10)\n",
    "recall = recall_score(y_test, knn_preds_10)\n",
    "\n",
    "print(precision)\n",
    "print(recall)"
   ]
  },
  {
   "cell_type": "code",
   "execution_count": null,
   "id": "bdd054ef",
   "metadata": {},
   "outputs": [],
   "source": [
    "knn_tuned_11 = KNeighborsClassifier(n_neighbors=5, leaf_size=20, weights='uniform', metric='chebyshev')\n",
    "knn_tuned_11.fit(X_train, y_train)\n",
    "\n",
    "knn_preds_11 = knn_tuned_11.predict(X_test)\n",
    "\n",
    "precision = precision_score(y_test, knn_preds_11)\n",
    "recall = recall_score(y_test, knn_preds_11)\n",
    "\n",
    "print(precision)\n",
    "print(recall)"
   ]
  },
  {
   "cell_type": "code",
   "execution_count": null,
   "id": "1d9c8bf1",
   "metadata": {},
   "outputs": [],
   "source": [
    "knn_tuned_12 = KNeighborsClassifier(n_neighbors=5, leaf_size=20, weights='distance', metric='chebyshev')\n",
    "knn_tuned_12.fit(X_train, y_train)\n",
    "\n",
    "knn_preds_12 = knn_tuned_12.predict(X_test)\n",
    "\n",
    "precision = precision_score(y_test, knn_preds_12)\n",
    "recall = recall_score(y_test, knn_preds_12)\n",
    "\n",
    "print(precision)\n",
    "print(recall)"
   ]
  },
  {
   "cell_type": "code",
   "execution_count": null,
   "id": "6c8240d2",
   "metadata": {},
   "outputs": [],
   "source": [
    "knn_tuned_13 = KNeighborsClassifier(n_neighbors=10, leaf_size=20, p=1, weights='uniform', metric='minkowski')\n",
    "knn_tuned_13.fit(X_train, y_train)\n",
    "\n",
    "knn_preds_13 = knn_tuned_13.predict(X_test)\n",
    "\n",
    "precision = precision_score(y_test, knn_preds_13)\n",
    "recall = recall_score(y_test, knn_preds_13)\n",
    "\n",
    "print(precision)\n",
    "print(recall)"
   ]
  },
  {
   "cell_type": "code",
   "execution_count": null,
   "id": "183ba5ba",
   "metadata": {},
   "outputs": [],
   "source": [
    "knn_tuned_14 = KNeighborsClassifier(n_neighbors=10, leaf_size=20, p=1, weights='distance', metric='minkowski')\n",
    "knn_tuned_14.fit(X_train, y_train)\n",
    "\n",
    "knn_preds_14 = knn_tuned_14.predict(X_test)\n",
    "\n",
    "precision = precision_score(y_test, knn_preds_14)\n",
    "recall = recall_score(y_test, knn_preds_14)\n",
    "\n",
    "print(precision)\n",
    "print(recall)"
   ]
  },
  {
   "cell_type": "code",
   "execution_count": null,
   "id": "d2b07c0e",
   "metadata": {},
   "outputs": [],
   "source": [
    "knn_tuned_15 = KNeighborsClassifier(n_neighbors=10, leaf_size=20, p=2, weights='uniform', metric='minkowski')\n",
    "knn_tuned_15.fit(X_train, y_train)\n",
    "\n",
    "knn_preds_15 = knn_tuned_15.predict(X_test)\n",
    "\n",
    "precision = precision_score(y_test, knn_preds_15)\n",
    "recall = recall_score(y_test, knn_preds_15)\n",
    "\n",
    "print(precision)\n",
    "print(recall)"
   ]
  },
  {
   "cell_type": "code",
   "execution_count": null,
   "id": "e77453fc",
   "metadata": {},
   "outputs": [],
   "source": [
    "knn_tuned_16 = KNeighborsClassifier(n_neighbors=10, leaf_size=20, p=2, weights='distance', metric='minkowski')\n",
    "knn_tuned_16.fit(X_train, y_train)\n",
    "\n",
    "knn_preds_16 = knn_tuned_16.predict(X_test)\n",
    "\n",
    "precision = precision_score(y_test, knn_preds_16)\n",
    "recall = recall_score(y_test, knn_preds_16)\n",
    "\n",
    "print(precision)\n",
    "print(recall)"
   ]
  },
  {
   "cell_type": "code",
   "execution_count": null,
   "id": "b11d2bd0",
   "metadata": {},
   "outputs": [],
   "source": [
    "knn_tuned_17 = KNeighborsClassifier(n_neighbors=10, leaf_size=20, weights='uniform', metric='chebyshev')\n",
    "knn_tuned_17.fit(X_train, y_train)\n",
    "\n",
    "knn_preds_17 = knn_tuned_17.predict(X_test)\n",
    "\n",
    "precision = precision_score(y_test, knn_preds_17)\n",
    "recall = recall_score(y_test, knn_preds_17)\n",
    "\n",
    "print(precision)\n",
    "print(recall)"
   ]
  },
  {
   "cell_type": "code",
   "execution_count": null,
   "id": "71ba0ccc",
   "metadata": {},
   "outputs": [],
   "source": [
    "knn_tuned_18 = KNeighborsClassifier(n_neighbors=10, leaf_size=20, weights='distance', metric='chebyshev')\n",
    "knn_tuned_18.fit(X_train, y_train)\n",
    "\n",
    "knn_preds_18 = knn_tuned_18.predict(X_test)\n",
    "\n",
    "precision = precision_score(y_test, knn_preds_18)\n",
    "recall = recall_score(y_test, knn_preds_18)\n",
    "\n",
    "print(precision)\n",
    "print(recall)"
   ]
  },
  {
   "cell_type": "code",
   "execution_count": null,
   "id": "b1c7f462",
   "metadata": {},
   "outputs": [],
   "source": []
  },
  {
   "cell_type": "code",
   "execution_count": null,
   "id": "c3fdffd8",
   "metadata": {},
   "outputs": [],
   "source": []
  },
  {
   "cell_type": "code",
   "execution_count": null,
   "id": "7fb9d9bd",
   "metadata": {},
   "outputs": [],
   "source": []
  },
  {
   "cell_type": "code",
   "execution_count": null,
   "id": "f32358ba",
   "metadata": {},
   "outputs": [],
   "source": []
  }
 ],
 "metadata": {
  "kernelspec": {
   "display_name": "Python 3 (ipykernel)",
   "language": "python",
   "name": "python3"
  },
  "language_info": {
   "codemirror_mode": {
    "name": "ipython",
    "version": 3
   },
   "file_extension": ".py",
   "mimetype": "text/x-python",
   "name": "python",
   "nbconvert_exporter": "python",
   "pygments_lexer": "ipython3",
   "version": "3.9.7"
  }
 },
 "nbformat": 4,
 "nbformat_minor": 5
}
