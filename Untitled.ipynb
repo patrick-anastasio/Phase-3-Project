{
 "cells": [
  {
   "cell_type": "markdown",
   "id": "eda8dad4",
   "metadata": {},
   "source": [
    "# Business Understanding\n",
    "\n",
    "Tanzania is a developing country in eastern Africa. It is a geographically diverse country with mountainous terrain and flat plains. The country borders the Indian Ocean in the east, and the Great Rift Valley on its western border. A good portion of the country is below sea level, and much of it is 900 ft above sea level. Water is a tricky resource in the country and many organizations have installed water pumps in villages around the country in an effort to provide clean drinking water to the poeple. These pumps vary in how they extract water, the water quality, and what basin the water comes from. Pumps break down and require maintenance which can be quite a task considering there are over 57,000 pumps in the country.\n",
    "\n",
    "We have been asked by the Tanzanian Government to create a predicition model that will predict the condition of a water pump; functional, or non-functional. This will allow them strategically mobilize repair teams and to efficiently react when resources are needed in a particular area, such as supplying potable water to a village whose pump is non-functional and needs repair."
   ]
  },
  {
   "cell_type": "markdown",
   "id": "d98e187e",
   "metadata": {},
   "source": [
    "#### Our null hypothesis is that we are not able to predict whether a well is functional or not.\n",
    "\n",
    "#### Our alternative hypothesis is that we can predict the condition of a well."
   ]
  },
  {
   "cell_type": "markdown",
   "id": "cb2e26dd",
   "metadata": {},
   "source": [
    "> A false positive would be to predict a well is functional when it is not.\n",
    "\n",
    "> A false negative would be to predict a well is non-functional when it is."
   ]
  },
  {
   "cell_type": "code",
   "execution_count": null,
   "id": "d0fde0ac",
   "metadata": {},
   "outputs": [],
   "source": [
    "import numpy as np\n",
    "import pandas as pd\n",
    "import missingno as msno\n",
    "import matplotlib.pyplot as plt\n",
    "import seaborn as sns\n",
    "import yellowbrick as yb\n",
    "import folium\n",
    "sns.set(style=\"whitegrid\")\n",
    "pd.set_option('display.max_columns',None)\n",
    "\n",
    "from scipy import stats as stats\n",
    "from sklearn.linear_model import LogisticRegression\n",
    "from sklearn.neighbors import KNeighborsClassifier\n",
    "from sklearn.tree import DecisionTreeClassifier\n",
    "from sklearn.ensemble import RandomForestRegressor, RandomForestClassifier\n",
    "from sklearn.metrics import confusion_matrix, plot_confusion_matrix,\\\n",
    "    precision_score, recall_score, accuracy_score, f1_score, log_loss,\\\n",
    "    roc_curve, roc_auc_score, classification_report\n",
    "from sklearn.model_selection import train_test_split, GridSearchCV, cross_val_score, RandomizedSearchCV\n",
    "from mlxtend.feature_selection import SequentialFeatureSelector\n",
    "from sklearn.preprocessing import OneHotEncoder, StandardScaler\n",
    "from sklearn.impute import SimpleImputer\n",
    "from sklearn.pipeline import Pipeline\n",
    "from sklearn.compose import ColumnTransformer\n",
    "from sklearn.naive_bayes import MultinomialNB, GaussianNB\n",
    "from sklearn.feature_selection import SelectFromModel\n",
    "from time import time\n",
    "pd.set_option(\"mode.chained_assignment\", None)"
   ]
  },
  {
   "cell_type": "code",
   "execution_count": null,
   "id": "99215401",
   "metadata": {},
   "outputs": [],
   "source": [
    "V = pd.read_csv('Data/values.csv')\n",
    "y = pd.read_csv('Data/labels.csv')"
   ]
  },
  {
   "cell_type": "code",
   "execution_count": null,
   "id": "f6ae553e",
   "metadata": {},
   "outputs": [],
   "source": [
    "y = y.replace({'status_group': {'functional' : 0, 'non functional' : 1, 'functional needs repair' : 1}})"
   ]
  },
  {
   "cell_type": "code",
   "execution_count": null,
   "id": "b56c28a2",
   "metadata": {},
   "outputs": [],
   "source": [
    "y.status_group.value_counts()"
   ]
  },
  {
   "cell_type": "code",
   "execution_count": null,
   "id": "ad18151c",
   "metadata": {},
   "outputs": [],
   "source": [
    "df_lat_long = V['latitude'].to_frame().join(V['longitude']).join(y)\n",
    "map_center = [df_lat_long['latitude'].mean(), df_lat_long['longitude'].mean()]"
   ]
  },
  {
   "cell_type": "code",
   "execution_count": null,
   "id": "0f9a43ee",
   "metadata": {},
   "outputs": [],
   "source": [
    "# map1 = folium.Map(location = map_center, tiles='Openstreetmap', zoom_start = 5, control_scale=True, prefer_canvas=True)\n",
    "# for index, loc in df_lat_long.iterrows():\n",
    "#     if loc['status_group']==0:\n",
    "#         color = 'green'\n",
    "#     elif loc['status_group']==1:\n",
    "#         color = \"red\"\n",
    "#     elif loc['status_group']==2:\n",
    "#         color = 'blue'\n",
    "#     else:\n",
    "#         color = 'black'\n",
    "#     folium.CircleMarker([loc['latitude'], loc['longitude']], radius=2, weight=1, popup=loc['id'], fill_color=color, stroke=False).add_to(map1)\n",
    "# folium.LayerControl().add_to(map1)\n",
    "\n",
    "# map1"
   ]
  },
  {
   "cell_type": "code",
   "execution_count": null,
   "id": "a158c727",
   "metadata": {},
   "outputs": [],
   "source": [
    "df_all = V.join(y.set_index('id'), on='id')"
   ]
  },
  {
   "cell_type": "code",
   "execution_count": null,
   "id": "70cde023",
   "metadata": {},
   "outputs": [],
   "source": [
    "df_all.drop(labels=df_all.id[49651], inplace=True)"
   ]
  },
  {
   "cell_type": "code",
   "execution_count": null,
   "id": "c3b9ba84",
   "metadata": {},
   "outputs": [],
   "source": [
    "# Need to drop features that have no influence, and are repetitive\n",
    "df = df_all.drop(columns=['id', 'amount_tsh', 'date_recorded', 'funder',\n",
    "       'longitude', 'latitude', 'wpt_name', 'num_private',\n",
    "       'subvillage', 'region', 'region_code', 'district_code',\n",
    "       'ward', 'public_meeting', 'recorded_by',\n",
    "       'scheme_management', 'scheme_name', 'permit', \n",
    "       'extraction_type_group', 'extraction_type_class',\n",
    "       'management_group', 'payment', 'payment_type',\n",
    "       'quality_group', 'quantity', 'quantity_group',\n",
    "       'source_type', 'source_class',\n",
    "       'waterpoint_type_group'])"
   ]
  },
  {
   "cell_type": "code",
   "execution_count": null,
   "id": "95305220",
   "metadata": {},
   "outputs": [],
   "source": [
    "df.duplicated().value_counts()"
   ]
  },
  {
   "cell_type": "code",
   "execution_count": null,
   "id": "052e0015",
   "metadata": {},
   "outputs": [],
   "source": [
    "# df.drop_duplicates(inplace=True)"
   ]
  },
  {
   "cell_type": "code",
   "execution_count": null,
   "id": "a1b50223",
   "metadata": {},
   "outputs": [],
   "source": [
    "df.isna().sum().sum()"
   ]
  },
  {
   "cell_type": "code",
   "execution_count": null,
   "id": "1e1ce82d",
   "metadata": {},
   "outputs": [],
   "source": [
    "df.dropna(inplace=True)"
   ]
  },
  {
   "cell_type": "code",
   "execution_count": null,
   "id": "e60329eb",
   "metadata": {},
   "outputs": [],
   "source": [
    "sns.pairplot(df)\n",
    "plt.show()"
   ]
  },
  {
   "cell_type": "code",
   "execution_count": null,
   "id": "1674763a",
   "metadata": {},
   "outputs": [],
   "source": [
    "X = df.drop('status_group', axis=1)\n",
    "y = df.status_group"
   ]
  },
  {
   "cell_type": "code",
   "execution_count": null,
   "id": "7c31d605",
   "metadata": {},
   "outputs": [],
   "source": [
    "def process_scale (X, y):\n",
    "    X_cat = X.select_dtypes('object')\n",
    "    ohe = OneHotEncoder(sparse=False, handle_unknown='ignore')\n",
    "    dums = ohe.fit_transform(X_cat)\n",
    "    dums_df = pd.DataFrame(dums, columns=ohe.get_feature_names(), index=X_cat.index)\n",
    "\n",
    "    X_nums = X.select_dtypes('int64')\n",
    "    X = pd.concat([X_nums, dums_df], axis=1)\n",
    "\n",
    "    X_train, X_test, y_train, y_test = train_test_split(X, y, test_size=.1, random_state=42)\n",
    "\n",
    "#         X_train.population.where(X_train.population != 0, X_train.population.median(), inplace=True)\n",
    "    X_train.construction_year.where(X_train.construction_year != 0, X_train.construction_year.median(), inplace=True)\n",
    "\n",
    "    X_train_nums = X_train.select_dtypes('int64')\n",
    "    ss = StandardScaler()\n",
    "    ss.fit(X_train_nums)\n",
    "    nums_df = pd.DataFrame(ss.transform(X_train_nums),\n",
    "                      index=X_train_nums.index)\n",
    "    X_cats = X_train.select_dtypes('float64')\n",
    "    X_train_clean = pd.concat([nums_df, X_cats], axis=1)\n",
    "\n",
    "#         X_test.population.where(X_test.population != 0, X_test.population.median(), inplace=True)\n",
    "    X_test.construction_year.where(X_test.construction_year != 0, X_test.construction_year.median(), inplace=True)\n",
    "\n",
    "    X_test_nums = X_test.select_dtypes('int64')\n",
    "    ss = StandardScaler()\n",
    "    ss.fit(X_test_nums)\n",
    "    test_nums_df = pd.DataFrame(ss.transform(X_test_nums),\n",
    "                      index=X_test_nums.index)\n",
    "    X_test_cats = X_test.select_dtypes('float64')\n",
    "    X_test_clean = pd.concat([test_nums_df, X_test_cats], axis=1)\n",
    "\n",
    "    return X_train_clean, X_test_clean, y_train, y_test\n",
    "\n",
    "\n",
    "def process_no_scale (X, y):\n",
    "    X_cat = X.select_dtypes('object')\n",
    "    ohe = OneHotEncoder(sparse=False, handle_unknown='ignore')\n",
    "    dums = ohe.fit_transform(X_cat)\n",
    "    dums_df = pd.DataFrame(dums, columns=ohe.get_feature_names(), index=X_cat.index)\n",
    "\n",
    "    X_nums = X.select_dtypes('int64')\n",
    "    X = pd.concat([X_nums, dums_df], axis=1)\n",
    "\n",
    "    X_train, X_test, y_train, y_test = train_test_split(X, y, test_size=.1, random_state=42)\n",
    "\n",
    "#         X_train.population.where(X_train.population != 0, X_train.population.median(), inplace=True)\n",
    "    X_train.construction_year.where(X_train.construction_year != 0, X_train.construction_year.median(), inplace=True)\n",
    "\n",
    "#         X_test.population.where(X_test.population != 0, X_test.population.median(), inplace=True)\n",
    "    X_test.construction_year.where(X_test.construction_year != 0, X_test.construction_year.median(), inplace=True)\n",
    "    \n",
    "    return X_train, X_test, y_train, y_test"
   ]
  },
  {
   "cell_type": "code",
   "execution_count": null,
   "id": "c4dfd40a",
   "metadata": {},
   "outputs": [],
   "source": [
    "X_train, X_test, y_train, y_test = process_scale(X, y)\n",
    "\n",
    "X_train_ns, X_test_ns, y_train_ns, y_test_ns = process_no_scale(X, y)"
   ]
  },
  {
   "cell_type": "markdown",
   "id": "2c89923c",
   "metadata": {},
   "source": [
    "# Logistic Regression"
   ]
  },
  {
   "cell_type": "code",
   "execution_count": null,
   "id": "72e9b85d",
   "metadata": {},
   "outputs": [],
   "source": [
    "logreg = LogisticRegression(fit_intercept=False, class_weight='balanced', max_iter=1000, solver='lbfgs')\n",
    "model_log = logreg.fit(X_train, y_train)"
   ]
  },
  {
   "cell_type": "code",
   "execution_count": null,
   "id": "8a160c89",
   "metadata": {},
   "outputs": [],
   "source": [
    "print(f\"training accuracy: {model_log.score(X_train, y_train)}\")\n",
    "print(f\"testing accuracy: {model_log.score(X_test, y_test)}\")"
   ]
  },
  {
   "cell_type": "code",
   "execution_count": null,
   "id": "565b36bb",
   "metadata": {},
   "outputs": [],
   "source": [
    "y_hat_test = model_log.predict(X_test)\n",
    "\n",
    "print(confusion_matrix(y_test, y_hat_test))"
   ]
  },
  {
   "cell_type": "code",
   "execution_count": null,
   "id": "673e4d54",
   "metadata": {},
   "outputs": [],
   "source": [
    "precision = precision_score(y_test, y_hat_test)\n",
    "recall = recall_score(y_test, y_hat_test)\n",
    "accuracy = accuracy_score(y_test, y_hat_test)\n",
    "F1 = f1_score(y_test, y_hat_test)\n",
    "\n",
    "print(precision)\n",
    "print(accuracy)\n",
    "print(recall)\n",
    "print(F1)"
   ]
  },
  {
   "cell_type": "markdown",
   "id": "22f4bd07",
   "metadata": {},
   "source": [
    "# K Nearest Neighbors"
   ]
  },
  {
   "cell_type": "code",
   "execution_count": null,
   "id": "444008b7",
   "metadata": {},
   "outputs": [],
   "source": [
    "knn = KNeighborsClassifier(n_neighbors=30, leaf_size=30, weights='distance')\n",
    "knn.fit(X_train, y_train)"
   ]
  },
  {
   "cell_type": "code",
   "execution_count": null,
   "id": "2db169f0",
   "metadata": {},
   "outputs": [],
   "source": [
    "print(f\"training accuracy: {knn.score(X_train, y_train)}\")\n",
    "print(f\"testing accuracy: {knn.score(X_test, y_test)}\")"
   ]
  },
  {
   "cell_type": "code",
   "execution_count": null,
   "id": "864a1389",
   "metadata": {},
   "outputs": [],
   "source": [
    "knn_preds = knn.predict(X_test)"
   ]
  },
  {
   "cell_type": "code",
   "execution_count": null,
   "id": "d04cdff7",
   "metadata": {},
   "outputs": [],
   "source": [
    "print(confusion_matrix(y_test, knn_preds))"
   ]
  },
  {
   "cell_type": "code",
   "execution_count": null,
   "id": "d93e384d",
   "metadata": {},
   "outputs": [],
   "source": [
    "precision = precision_score(y_test, knn_preds)\n",
    "recall = recall_score(y_test, knn_preds)\n",
    "accuracy = accuracy_score(y_test, knn_preds)\n",
    "F1 = f1_score(y_test, knn_preds)\n",
    "\n",
    "print(precision)\n",
    "print(accuracy)\n",
    "print(recall)\n",
    "print(F1)"
   ]
  },
  {
   "cell_type": "markdown",
   "id": "6c299e1c",
   "metadata": {},
   "source": [
    "# Naive Bayes"
   ]
  },
  {
   "cell_type": "code",
   "execution_count": null,
   "id": "85623fca",
   "metadata": {
    "scrolled": true
   },
   "outputs": [],
   "source": [
    "gnb = GaussianNB()\n",
    "\n",
    "gnb.fit(X_train_ns, y_train)\n",
    "\n",
    "print(f\"training accuracy: {gnb.score(X_train, y_train)}\")\n",
    "print(f\"testing accuracy: {gnb.score(X_test, y_test)}\")"
   ]
  },
  {
   "cell_type": "code",
   "execution_count": null,
   "id": "0e45248c",
   "metadata": {},
   "outputs": [],
   "source": [
    "gnb_preds = gnb.predict(X_test)\n",
    "print(confusion_matrix(y_test, gnb_preds))"
   ]
  },
  {
   "cell_type": "code",
   "execution_count": null,
   "id": "6f218bf6",
   "metadata": {},
   "outputs": [],
   "source": [
    "precision = precision_score(y_test, gnb_preds)\n",
    "recall = recall_score(y_test, gnb_preds)\n",
    "accuracy = accuracy_score(y_test, gnb_preds)\n",
    "F1 = f1_score(y_test, gnb_preds)\n",
    "\n",
    "print(precision)\n",
    "print(accuracy)\n",
    "print(recall)\n",
    "print(F1)"
   ]
  },
  {
   "cell_type": "markdown",
   "id": "cedcf736",
   "metadata": {},
   "source": [
    "# Decision Tree"
   ]
  },
  {
   "cell_type": "code",
   "execution_count": null,
   "id": "263fe394",
   "metadata": {},
   "outputs": [],
   "source": [
    "tree = DecisionTreeClassifier(max_depth=10, criterion='gini')\n",
    "\n",
    "tree.fit(X_train_ns, y_train_ns)\n",
    "\n",
    "print(f\"training accuracy: {tree.score(X_train_ns, y_train_ns)}\")\n",
    "print(f\"testing accuracy: {tree.score(X_test_ns, y_test_ns)}\")"
   ]
  },
  {
   "cell_type": "code",
   "execution_count": null,
   "id": "10b3a2bf",
   "metadata": {},
   "outputs": [],
   "source": [
    "tree_preds = tree.predict(X_test_ns)\n",
    "print(confusion_matrix(y_test_ns, tree_preds))"
   ]
  },
  {
   "cell_type": "code",
   "execution_count": null,
   "id": "cf42a110",
   "metadata": {},
   "outputs": [],
   "source": [
    "precision = precision_score(y_test_ns, tree_preds)\n",
    "recall = recall_score(y_test_ns, tree_preds)\n",
    "accuracy = accuracy_score(y_test_ns, tree_preds)\n",
    "F1 = f1_score(y_test_ns, tree_preds)\n",
    "\n",
    "print(precision)\n",
    "print(accuracy)\n",
    "print(recall)\n",
    "print(F1)"
   ]
  },
  {
   "cell_type": "markdown",
   "id": "a0453760",
   "metadata": {},
   "source": [
    "# Random Forest"
   ]
  },
  {
   "cell_type": "code",
   "execution_count": null,
   "id": "bf1f8467",
   "metadata": {},
   "outputs": [],
   "source": [
    "forest = RandomForestClassifier(max_features=None, class_weight=\"balanced\",\n",
    "                            max_depth = 10)\n",
    "\n",
    "forest.fit(X_train_ns, y_train_ns)\n",
    "\n",
    "print(f\"training accuracy: {forest.score(X_train_ns, y_train_ns)}\")\n",
    "print(f\"testing accuracy: {forest.score(X_train_ns, y_train_ns)}\")"
   ]
  },
  {
   "cell_type": "code",
   "execution_count": null,
   "id": "7d781142",
   "metadata": {},
   "outputs": [],
   "source": [
    "forest_preds = forest.predict(X_test_ns)\n",
    "print(confusion_matrix(y_test_ns, forest_preds))"
   ]
  },
  {
   "cell_type": "code",
   "execution_count": null,
   "id": "dffe2a35",
   "metadata": {},
   "outputs": [],
   "source": [
    "precision = precision_score(y_test_ns, forest_preds)\n",
    "recall = recall_score(y_test_ns, forest_preds)\n",
    "accuracy = accuracy_score(y_test_ns, forest_preds)\n",
    "F1 = f1_score(y_test_ns, forest_preds)\n",
    "\n",
    "print(precision)\n",
    "print(accuracy)\n",
    "print(recall)\n",
    "print(F1)"
   ]
  },
  {
   "cell_type": "markdown",
   "id": "a174cc12",
   "metadata": {},
   "source": [
    "# Tuning the KNN Model"
   ]
  },
  {
   "cell_type": "code",
   "execution_count": null,
   "id": "1f63e721",
   "metadata": {},
   "outputs": [],
   "source": [
    "knn_tuned = KNeighborsClassifier(algorithm='auto')\n",
    "\n",
    "print('good 1')\n",
    "\n",
    "parameters_KNN = {\n",
    "    'n_neighbors': (5, 30, 50),\n",
    "    'leaf_size': (10, 30, 100, 1000),\n",
    "    'weights': ('uniform', 'distance'),\n",
    "}\n",
    "\n",
    "print('good 2')\n",
    "\n",
    "grid_search_KNN = GridSearchCV(\n",
    "    estimator=knn_tuned,\n",
    "    param_grid=parameters_KNN,\n",
    "    scoring = 'recall',\n",
    "    n_jobs = -1,\n",
    "    cv = 5\n",
    ")\n",
    "\n",
    "print('good 3')\n",
    "\n",
    "KNN = grid_search_KNN.fit(X_train, y_train)\n",
    "\n",
    "print('good 4')\n",
    "\n",
    "print(grid_search_KNN.best_params_ )\n",
    "print('--------------------------')\n",
    "print('Best Score - KNN:', grid_search_KNN.best_score_ )"
   ]
  },
  {
   "cell_type": "code",
   "execution_count": null,
   "id": "b1c7f462",
   "metadata": {},
   "outputs": [],
   "source": []
  },
  {
   "cell_type": "code",
   "execution_count": null,
   "id": "c3fdffd8",
   "metadata": {},
   "outputs": [],
   "source": []
  },
  {
   "cell_type": "code",
   "execution_count": null,
   "id": "7fb9d9bd",
   "metadata": {},
   "outputs": [],
   "source": []
  },
  {
   "cell_type": "code",
   "execution_count": null,
   "id": "f32358ba",
   "metadata": {},
   "outputs": [],
   "source": []
  }
 ],
 "metadata": {
  "kernelspec": {
   "display_name": "Python 3 (ipykernel)",
   "language": "python",
   "name": "python3"
  },
  "language_info": {
   "codemirror_mode": {
    "name": "ipython",
    "version": 3
   },
   "file_extension": ".py",
   "mimetype": "text/x-python",
   "name": "python",
   "nbconvert_exporter": "python",
   "pygments_lexer": "ipython3",
   "version": "3.9.7"
  }
 },
 "nbformat": 4,
 "nbformat_minor": 5
}
